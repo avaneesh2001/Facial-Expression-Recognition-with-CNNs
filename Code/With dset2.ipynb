{
 "cells": [
  {
   "cell_type": "code",
   "execution_count": 1,
   "id": "3210fc63",
   "metadata": {
    "execution": {
     "iopub.execute_input": "2023-02-28T12:54:07.828713Z",
     "iopub.status.busy": "2023-02-28T12:54:07.828158Z",
     "iopub.status.idle": "2023-02-28T12:54:13.850990Z",
     "shell.execute_reply": "2023-02-28T12:54:13.849894Z"
    },
    "papermill": {
     "duration": 6.032123,
     "end_time": "2023-02-28T12:54:13.853595",
     "exception": false,
     "start_time": "2023-02-28T12:54:07.821472",
     "status": "completed"
    },
    "tags": []
   },
   "outputs": [],
   "source": [
    "# Import necessary libraries\n",
    "import tensorflow as tf\n",
    "from tensorflow.keras.layers import Input, Dense, Dropout\n",
    "from tensorflow.keras.layers import Conv2D, MaxPooling2D, AveragePooling2D,BatchNormalization\n",
    "from tensorflow.keras.layers import Flatten, Concatenate\n",
    "from tensorflow.keras.models import Model\n",
    "from tensorflow.keras.preprocessing.image import ImageDataGenerator\n",
    "from tensorflow.keras.optimizers import Adam\n"
   ]
  },
  {
   "cell_type": "code",
   "execution_count": 2,
   "id": "5f3365f7",
   "metadata": {
    "execution": {
     "iopub.execute_input": "2023-02-28T12:54:13.862830Z",
     "iopub.status.busy": "2023-02-28T12:54:13.862192Z",
     "iopub.status.idle": "2023-02-28T12:54:13.867184Z",
     "shell.execute_reply": "2023-02-28T12:54:13.866089Z"
    },
    "papermill": {
     "duration": 0.011963,
     "end_time": "2023-02-28T12:54:13.869521",
     "exception": false,
     "start_time": "2023-02-28T12:54:13.857558",
     "status": "completed"
    },
    "tags": []
   },
   "outputs": [],
   "source": [
    "from tensorflow.keras.models import Sequential\n"
   ]
  },
  {
   "cell_type": "code",
   "execution_count": 3,
   "id": "b1bc6e65",
   "metadata": {
    "execution": {
     "iopub.execute_input": "2023-02-28T12:54:13.877925Z",
     "iopub.status.busy": "2023-02-28T12:54:13.877635Z",
     "iopub.status.idle": "2023-02-28T12:54:13.883008Z",
     "shell.execute_reply": "2023-02-28T12:54:13.882104Z"
    },
    "papermill": {
     "duration": 0.011738,
     "end_time": "2023-02-28T12:54:13.884909",
     "exception": false,
     "start_time": "2023-02-28T12:54:13.873171",
     "status": "completed"
    },
    "tags": []
   },
   "outputs": [],
   "source": [
    "# Set constants\n",
    "IMAGE_SIZE = (48, 48)\n",
    "BATCH_SIZE = 512\n",
    "NUM_CLASSES = 7\n",
    "EPOCHS = 100"
   ]
  },
  {
   "cell_type": "markdown",
   "id": "7bf7c8da",
   "metadata": {
    "papermill": {
     "duration": 0.003355,
     "end_time": "2023-02-28T12:54:13.891817",
     "exception": false,
     "start_time": "2023-02-28T12:54:13.888462",
     "status": "completed"
    },
    "tags": []
   },
   "source": [
    "Augmentation to prevent overfitting and help with generalization"
   ]
  },
  {
   "cell_type": "code",
   "execution_count": 4,
   "id": "70c86297",
   "metadata": {
    "execution": {
     "iopub.execute_input": "2023-02-28T12:54:13.900126Z",
     "iopub.status.busy": "2023-02-28T12:54:13.899594Z",
     "iopub.status.idle": "2023-02-28T12:54:13.904835Z",
     "shell.execute_reply": "2023-02-28T12:54:13.903819Z"
    },
    "papermill": {
     "duration": 0.01164,
     "end_time": "2023-02-28T12:54:13.906888",
     "exception": false,
     "start_time": "2023-02-28T12:54:13.895248",
     "status": "completed"
    },
    "tags": []
   },
   "outputs": [],
   "source": [
    "# Define data generators for training and validation sets\n",
    "train_datagen = ImageDataGenerator(rescale=1./255,\n",
    "                                   rotation_range=30,\n",
    "                                   shear_range=0.3,\n",
    "                                   zoom_range=0.3,\n",
    "                                   width_shift_range=0.4,\n",
    "                                   height_shift_range=0.4,\n",
    "                                   horizontal_flip=True,\n",
    "                                   fill_mode='nearest')\n",
    "test_datagen = ImageDataGenerator(rescale=1./255)\n",
    "\n"
   ]
  },
  {
   "cell_type": "code",
   "execution_count": 5,
   "id": "3228f019",
   "metadata": {
    "execution": {
     "iopub.execute_input": "2023-02-28T12:54:13.915719Z",
     "iopub.status.busy": "2023-02-28T12:54:13.914832Z",
     "iopub.status.idle": "2023-02-28T12:54:30.736060Z",
     "shell.execute_reply": "2023-02-28T12:54:30.734052Z"
    },
    "papermill": {
     "duration": 16.829383,
     "end_time": "2023-02-28T12:54:30.739738",
     "exception": false,
     "start_time": "2023-02-28T12:54:13.910355",
     "status": "completed"
    },
    "tags": []
   },
   "outputs": [
    {
     "name": "stdout",
     "output_type": "stream",
     "text": [
      "Found 28821 files belonging to 7 classes.\n",
      "Found 7066 files belonging to 7 classes.\n"
     ]
    }
   ],
   "source": [
    "train = tf.keras.utils.image_dataset_from_directory('/kaggle/input/face-expression-recognition-dataset/images/train',image_size=IMAGE_SIZE,batch_size=BATCH_SIZE,color_mode = \"grayscale\")\n",
    "test = tf.keras.utils.image_dataset_from_directory('/kaggle/input/face-expression-recognition-dataset/images/validation',image_size=IMAGE_SIZE,batch_size=BATCH_SIZE,color_mode = \"grayscale\")"
   ]
  },
  {
   "cell_type": "code",
   "execution_count": 6,
   "id": "44ea096c",
   "metadata": {
    "execution": {
     "iopub.execute_input": "2023-02-28T12:54:30.752699Z",
     "iopub.status.busy": "2023-02-28T12:54:30.752338Z",
     "iopub.status.idle": "2023-02-28T12:54:30.811538Z",
     "shell.execute_reply": "2023-02-28T12:54:30.810673Z"
    },
    "papermill": {
     "duration": 0.068818,
     "end_time": "2023-02-28T12:54:30.814692",
     "exception": false,
     "start_time": "2023-02-28T12:54:30.745874",
     "status": "completed"
    },
    "tags": []
   },
   "outputs": [],
   "source": [
    "train = train.map(lambda x,y: (x/255, y))\n",
    "test = test.map(lambda x,y: (x/255, y))"
   ]
  },
  {
   "cell_type": "code",
   "execution_count": 7,
   "id": "03450c0e",
   "metadata": {
    "execution": {
     "iopub.execute_input": "2023-02-28T12:54:30.827199Z",
     "iopub.status.busy": "2023-02-28T12:54:30.826877Z",
     "iopub.status.idle": "2023-02-28T12:54:30.835452Z",
     "shell.execute_reply": "2023-02-28T12:54:30.834633Z"
    },
    "papermill": {
     "duration": 0.01766,
     "end_time": "2023-02-28T12:54:30.838103",
     "exception": false,
     "start_time": "2023-02-28T12:54:30.820443",
     "status": "completed"
    },
    "tags": []
   },
   "outputs": [],
   "source": [
    "def inception_module(layer_in, f1, f2, f3):\n",
    "# 1x1 conv\n",
    " conv1 = Conv2D(f1, (1,1), padding='same', activation='relu')(layer_in)\n",
    " # 3x3 conv\n",
    " conv3 = Conv2D(f2, (3,3), padding='same', activation='relu')(layer_in)\n",
    " # 5x5 conv\n",
    " conv5 = Conv2D(f3, (5,5), padding='same', activation='relu')(layer_in)\n",
    " # 3x3 max pooling\n",
    " pool = MaxPooling2D((3,3), strides=(1,1), padding='same')(layer_in)\n",
    " # concatenate filters, assumes filters/channels last\n",
    " out = Concatenate(axis=-1)([conv1, conv3, conv5, pool])\n",
    " return out"
   ]
  },
  {
   "cell_type": "code",
   "execution_count": 8,
   "id": "24fde081",
   "metadata": {
    "execution": {
     "iopub.execute_input": "2023-02-28T12:54:30.849947Z",
     "iopub.status.busy": "2023-02-28T12:54:30.849631Z",
     "iopub.status.idle": "2023-02-28T12:54:31.187938Z",
     "shell.execute_reply": "2023-02-28T12:54:31.186927Z"
    },
    "papermill": {
     "duration": 0.347401,
     "end_time": "2023-02-28T12:54:31.190750",
     "exception": false,
     "start_time": "2023-02-28T12:54:30.843349",
     "status": "completed"
    },
    "tags": []
   },
   "outputs": [],
   "source": [
    "input_layer = Input(shape=(48,48, 1))\n",
    "\n",
    "x = Conv2D(32,(5,5),padding='same', activation='relu')(input_layer)\n",
    "x = MaxPooling2D((2,2),strides = (2,2),padding='same')(x)\n",
    "x = BatchNormalization()(x)\n",
    "\n",
    "x = Conv2D(64,(3,3),padding='same', activation='relu')(input_layer)\n",
    "x = MaxPooling2D((2,2),strides = (2,2),padding='same')(x)\n",
    "x = BatchNormalization()(x)\n",
    "\n",
    "x = inception_module(x, 64, 128, 32)\n",
    "x = Dropout(0.2)(x)\n",
    "x = inception_module(x, 96, 192, 48)\n",
    "x = Dropout(0.2)(x)\n",
    "x = inception_module(x, 128, 208, 64)\n",
    "x = Dropout(0.2)(x)\n",
    "\n",
    "x = Flatten()(x)\n",
    "\n",
    "dense = Dense(128,activation='LeakyReLU')(x)\n",
    "x = Dropout(0.2)(x)\n",
    "dense = Dense(128,activation='relu')(x)\n",
    "out_layer = Dense(7,activation='softmax')(x)\n",
    " \n",
    "\n",
    "model = Model(input_layer,out_layer)\n"
   ]
  },
  {
   "cell_type": "code",
   "execution_count": 9,
   "id": "198d7b30",
   "metadata": {
    "execution": {
     "iopub.execute_input": "2023-02-28T12:54:31.200209Z",
     "iopub.status.busy": "2023-02-28T12:54:31.199538Z",
     "iopub.status.idle": "2023-02-28T12:54:31.208997Z",
     "shell.execute_reply": "2023-02-28T12:54:31.208076Z"
    },
    "papermill": {
     "duration": 0.016424,
     "end_time": "2023-02-28T12:54:31.211152",
     "exception": false,
     "start_time": "2023-02-28T12:54:31.194728",
     "status": "completed"
    },
    "tags": []
   },
   "outputs": [],
   "source": [
    "adam =tf.keras.optimizers.Adam(\n",
    "    learning_rate=0.00001,\n",
    "    beta_1=0.9,\n",
    "    beta_2=0.999,\n",
    "    epsilon=1e-07,\n",
    "    amsgrad=False,\n",
    "    name='Adam'\n",
    "    \n",
    ")"
   ]
  },
  {
   "cell_type": "code",
   "execution_count": 10,
   "id": "cfa8cc6f",
   "metadata": {
    "execution": {
     "iopub.execute_input": "2023-02-28T12:54:31.219755Z",
     "iopub.status.busy": "2023-02-28T12:54:31.219447Z",
     "iopub.status.idle": "2023-02-28T12:54:31.303131Z",
     "shell.execute_reply": "2023-02-28T12:54:31.302230Z"
    },
    "papermill": {
     "duration": 0.135401,
     "end_time": "2023-02-28T12:54:31.350251",
     "exception": false,
     "start_time": "2023-02-28T12:54:31.214850",
     "status": "completed"
    },
    "tags": []
   },
   "outputs": [
    {
     "name": "stdout",
     "output_type": "stream",
     "text": [
      "Model: \"model\"\n",
      "__________________________________________________________________________________________________\n",
      " Layer (type)                   Output Shape         Param #     Connected to                     \n",
      "==================================================================================================\n",
      " input_1 (InputLayer)           [(None, 48, 48, 1)]  0           []                               \n",
      "                                                                                                  \n",
      " conv2d_1 (Conv2D)              (None, 48, 48, 64)   640         ['input_1[0][0]']                \n",
      "                                                                                                  \n",
      " max_pooling2d_1 (MaxPooling2D)  (None, 24, 24, 64)  0           ['conv2d_1[0][0]']               \n",
      "                                                                                                  \n",
      " batch_normalization_1 (BatchNo  (None, 24, 24, 64)  256         ['max_pooling2d_1[0][0]']        \n",
      " rmalization)                                                                                     \n",
      "                                                                                                  \n",
      " conv2d_2 (Conv2D)              (None, 24, 24, 64)   4160        ['batch_normalization_1[0][0]']  \n",
      "                                                                                                  \n",
      " conv2d_3 (Conv2D)              (None, 24, 24, 128)  73856       ['batch_normalization_1[0][0]']  \n",
      "                                                                                                  \n",
      " conv2d_4 (Conv2D)              (None, 24, 24, 32)   51232       ['batch_normalization_1[0][0]']  \n",
      "                                                                                                  \n",
      " max_pooling2d_2 (MaxPooling2D)  (None, 24, 24, 64)  0           ['batch_normalization_1[0][0]']  \n",
      "                                                                                                  \n",
      " concatenate (Concatenate)      (None, 24, 24, 288)  0           ['conv2d_2[0][0]',               \n",
      "                                                                  'conv2d_3[0][0]',               \n",
      "                                                                  'conv2d_4[0][0]',               \n",
      "                                                                  'max_pooling2d_2[0][0]']        \n",
      "                                                                                                  \n",
      " dropout (Dropout)              (None, 24, 24, 288)  0           ['concatenate[0][0]']            \n",
      "                                                                                                  \n",
      " conv2d_5 (Conv2D)              (None, 24, 24, 96)   27744       ['dropout[0][0]']                \n",
      "                                                                                                  \n",
      " conv2d_6 (Conv2D)              (None, 24, 24, 192)  497856      ['dropout[0][0]']                \n",
      "                                                                                                  \n",
      " conv2d_7 (Conv2D)              (None, 24, 24, 48)   345648      ['dropout[0][0]']                \n",
      "                                                                                                  \n",
      " max_pooling2d_3 (MaxPooling2D)  (None, 24, 24, 288)  0          ['dropout[0][0]']                \n",
      "                                                                                                  \n",
      " concatenate_1 (Concatenate)    (None, 24, 24, 624)  0           ['conv2d_5[0][0]',               \n",
      "                                                                  'conv2d_6[0][0]',               \n",
      "                                                                  'conv2d_7[0][0]',               \n",
      "                                                                  'max_pooling2d_3[0][0]']        \n",
      "                                                                                                  \n",
      " dropout_1 (Dropout)            (None, 24, 24, 624)  0           ['concatenate_1[0][0]']          \n",
      "                                                                                                  \n",
      " conv2d_8 (Conv2D)              (None, 24, 24, 128)  80000       ['dropout_1[0][0]']              \n",
      "                                                                                                  \n",
      " conv2d_9 (Conv2D)              (None, 24, 24, 208)  1168336     ['dropout_1[0][0]']              \n",
      "                                                                                                  \n",
      " conv2d_10 (Conv2D)             (None, 24, 24, 64)   998464      ['dropout_1[0][0]']              \n",
      "                                                                                                  \n",
      " max_pooling2d_4 (MaxPooling2D)  (None, 24, 24, 624)  0          ['dropout_1[0][0]']              \n",
      "                                                                                                  \n",
      " concatenate_2 (Concatenate)    (None, 24, 24, 1024  0           ['conv2d_8[0][0]',               \n",
      "                                )                                 'conv2d_9[0][0]',               \n",
      "                                                                  'conv2d_10[0][0]',              \n",
      "                                                                  'max_pooling2d_4[0][0]']        \n",
      "                                                                                                  \n",
      " dropout_2 (Dropout)            (None, 24, 24, 1024  0           ['concatenate_2[0][0]']          \n",
      "                                )                                                                 \n",
      "                                                                                                  \n",
      " flatten (Flatten)              (None, 589824)       0           ['dropout_2[0][0]']              \n",
      "                                                                                                  \n",
      " dropout_3 (Dropout)            (None, 589824)       0           ['flatten[0][0]']                \n",
      "                                                                                                  \n",
      " dense_2 (Dense)                (None, 7)            4128775     ['dropout_3[0][0]']              \n",
      "                                                                                                  \n",
      "==================================================================================================\n",
      "Total params: 7,376,967\n",
      "Trainable params: 7,376,839\n",
      "Non-trainable params: 128\n",
      "__________________________________________________________________________________________________\n",
      "None\n"
     ]
    }
   ],
   "source": [
    "model.compile(optimizer=adam,\n",
    "               loss=tf.keras.losses.SparseCategoricalCrossentropy(from_logits=True), \n",
    "             metrics=['accuracy'])\n",
    "\n",
    "print(model.summary())"
   ]
  },
  {
   "cell_type": "code",
   "execution_count": 11,
   "id": "ee539967",
   "metadata": {
    "execution": {
     "iopub.execute_input": "2023-02-28T12:54:31.366369Z",
     "iopub.status.busy": "2023-02-28T12:54:31.366057Z",
     "iopub.status.idle": "2023-02-28T12:54:31.371982Z",
     "shell.execute_reply": "2023-02-28T12:54:31.370878Z"
    },
    "papermill": {
     "duration": 0.016413,
     "end_time": "2023-02-28T12:54:31.374176",
     "exception": false,
     "start_time": "2023-02-28T12:54:31.357763",
     "status": "completed"
    },
    "tags": []
   },
   "outputs": [],
   "source": [
    "earlystopping =tf.keras.callbacks.EarlyStopping( monitor=\"val_loss\",\n",
    "                                                patience=10, verbose=1, mode=\"auto\", )\n",
    "lr_reduce = tf.keras.callbacks.ReduceLROnPlateau(monitor='val_accuracy', factor=0.6, patience=8,\n",
    "                              verbose=1, mode='max', min_lr=5e-5)\n",
    "checkpoint = tf.keras.callbacks.ModelCheckpoint('version1_finetune.h15', monitor= 'val_accuracy',\n",
    "                             mode= 'max', save_best_only = True, verbose= 1)"
   ]
  },
  {
   "cell_type": "code",
   "execution_count": 12,
   "id": "4d918a29",
   "metadata": {
    "execution": {
     "iopub.execute_input": "2023-02-28T12:54:31.389582Z",
     "iopub.status.busy": "2023-02-28T12:54:31.389304Z",
     "iopub.status.idle": "2023-02-28T14:01:40.375036Z",
     "shell.execute_reply": "2023-02-28T14:01:40.374043Z"
    },
    "papermill": {
     "duration": 4028.996114,
     "end_time": "2023-02-28T14:01:40.377349",
     "exception": false,
     "start_time": "2023-02-28T12:54:31.381235",
     "status": "completed"
    },
    "tags": []
   },
   "outputs": [
    {
     "name": "stdout",
     "output_type": "stream",
     "text": [
      "Epoch 1/100\n"
     ]
    },
    {
     "name": "stderr",
     "output_type": "stream",
     "text": [
      "/opt/conda/lib/python3.7/site-packages/keras/backend.py:5586: UserWarning: \"`sparse_categorical_crossentropy` received `from_logits=True`, but the `output` argument was produced by a Softmax activation and thus does not represent logits. Was this intended?\n",
      "  output, from_logits, \"Softmax\", \"sparse_categorical_crossentropy\"\n",
      "2023-02-28 12:54:33.429714: E tensorflow/core/grappler/optimizers/meta_optimizer.cc:954] layout failed: INVALID_ARGUMENT: Size of values 0 does not match size of permutation 4 @ fanin shape inmodel/dropout/dropout/SelectV2-2-TransposeNHWCToNCHW-LayoutOptimizer\n"
     ]
    },
    {
     "name": "stdout",
     "output_type": "stream",
     "text": [
      "57/57 [==============================] - ETA: 0s - loss: 2.2036 - accuracy: 0.2338\n",
      "Epoch 1: val_accuracy improved from -inf to 0.15695, saving model to version1_finetune.h15\n",
      "57/57 [==============================] - 98s 1s/step - loss: 2.2036 - accuracy: 0.2338 - val_loss: 1.9295 - val_accuracy: 0.1569 - lr: 1.0000e-05\n",
      "Epoch 2/100\n",
      "57/57 [==============================] - ETA: 0s - loss: 1.8580 - accuracy: 0.3106\n",
      "Epoch 2: val_accuracy improved from 0.15695 to 0.25318, saving model to version1_finetune.h15\n",
      "57/57 [==============================] - 38s 653ms/step - loss: 1.8580 - accuracy: 0.3106 - val_loss: 1.9121 - val_accuracy: 0.2532 - lr: 1.0000e-05\n",
      "Epoch 3/100\n",
      "57/57 [==============================] - ETA: 0s - loss: 1.7672 - accuracy: 0.3432\n",
      "Epoch 3: val_accuracy improved from 0.25318 to 0.32989, saving model to version1_finetune.h15\n",
      "57/57 [==============================] - 39s 658ms/step - loss: 1.7672 - accuracy: 0.3432 - val_loss: 1.8771 - val_accuracy: 0.3299 - lr: 1.0000e-05\n",
      "Epoch 4/100\n",
      "57/57 [==============================] - ETA: 0s - loss: 1.6860 - accuracy: 0.3764\n",
      "Epoch 4: val_accuracy improved from 0.32989 to 0.42061, saving model to version1_finetune.h15\n",
      "57/57 [==============================] - 39s 655ms/step - loss: 1.6860 - accuracy: 0.3764 - val_loss: 1.8583 - val_accuracy: 0.4206 - lr: 1.0000e-05\n",
      "Epoch 5/100\n",
      "57/57 [==============================] - ETA: 0s - loss: 1.6512 - accuracy: 0.3883\n",
      "Epoch 5: val_accuracy improved from 0.42061 to 0.43391, saving model to version1_finetune.h15\n",
      "57/57 [==============================] - 39s 651ms/step - loss: 1.6512 - accuracy: 0.3883 - val_loss: 1.7949 - val_accuracy: 0.4339 - lr: 1.0000e-05\n",
      "Epoch 6/100\n",
      "57/57 [==============================] - ETA: 0s - loss: 1.5987 - accuracy: 0.4060\n",
      "Epoch 6: val_accuracy did not improve from 0.43391\n",
      "57/57 [==============================] - 37s 629ms/step - loss: 1.5987 - accuracy: 0.4060 - val_loss: 1.7717 - val_accuracy: 0.4275 - lr: 1.0000e-05\n",
      "Epoch 7/100\n",
      "57/57 [==============================] - ETA: 0s - loss: 1.5724 - accuracy: 0.4189\n",
      "Epoch 7: val_accuracy did not improve from 0.43391\n",
      "57/57 [==============================] - 37s 629ms/step - loss: 1.5724 - accuracy: 0.4189 - val_loss: 1.7060 - val_accuracy: 0.4258 - lr: 1.0000e-05\n",
      "Epoch 8/100\n",
      "57/57 [==============================] - ETA: 0s - loss: 1.5505 - accuracy: 0.4275\n",
      "Epoch 8: val_accuracy improved from 0.43391 to 0.45613, saving model to version1_finetune.h15\n",
      "57/57 [==============================] - 39s 661ms/step - loss: 1.5505 - accuracy: 0.4275 - val_loss: 1.6776 - val_accuracy: 0.4561 - lr: 1.0000e-05\n",
      "Epoch 9/100\n",
      "57/57 [==============================] - ETA: 0s - loss: 1.5294 - accuracy: 0.4328\n",
      "Epoch 9: val_accuracy did not improve from 0.45613\n",
      "57/57 [==============================] - 38s 630ms/step - loss: 1.5294 - accuracy: 0.4328 - val_loss: 1.5942 - val_accuracy: 0.4386 - lr: 1.0000e-05\n",
      "Epoch 10/100\n",
      "57/57 [==============================] - ETA: 0s - loss: 1.4968 - accuracy: 0.4442\n",
      "Epoch 10: val_accuracy improved from 0.45613 to 0.46745, saving model to version1_finetune.h15\n",
      "57/57 [==============================] - 38s 643ms/step - loss: 1.4968 - accuracy: 0.4442 - val_loss: 1.5316 - val_accuracy: 0.4674 - lr: 1.0000e-05\n",
      "Epoch 11/100\n",
      "57/57 [==============================] - ETA: 0s - loss: 1.4765 - accuracy: 0.4498\n",
      "Epoch 11: val_accuracy improved from 0.46745 to 0.48698, saving model to version1_finetune.h15\n",
      "57/57 [==============================] - 38s 649ms/step - loss: 1.4765 - accuracy: 0.4498 - val_loss: 1.4571 - val_accuracy: 0.4870 - lr: 1.0000e-05\n",
      "Epoch 12/100\n",
      "57/57 [==============================] - ETA: 0s - loss: 1.4413 - accuracy: 0.4603\n",
      "Epoch 12: val_accuracy improved from 0.48698 to 0.48882, saving model to version1_finetune.h15\n",
      "57/57 [==============================] - 42s 684ms/step - loss: 1.4413 - accuracy: 0.4603 - val_loss: 1.4239 - val_accuracy: 0.4888 - lr: 1.0000e-05\n",
      "Epoch 13/100\n",
      "57/57 [==============================] - ETA: 0s - loss: 1.4198 - accuracy: 0.4730\n",
      "Epoch 13: val_accuracy did not improve from 0.48882\n",
      "57/57 [==============================] - 35s 595ms/step - loss: 1.4198 - accuracy: 0.4730 - val_loss: 1.4207 - val_accuracy: 0.4594 - lr: 1.0000e-05\n",
      "Epoch 14/100\n",
      "57/57 [==============================] - ETA: 0s - loss: 1.4031 - accuracy: 0.4745\n",
      "Epoch 14: val_accuracy improved from 0.48882 to 0.49250, saving model to version1_finetune.h15\n",
      "57/57 [==============================] - 40s 676ms/step - loss: 1.4031 - accuracy: 0.4745 - val_loss: 1.3731 - val_accuracy: 0.4925 - lr: 1.0000e-05\n",
      "Epoch 15/100\n",
      "57/57 [==============================] - ETA: 0s - loss: 1.3819 - accuracy: 0.4825\n",
      "Epoch 15: val_accuracy improved from 0.49250 to 0.50283, saving model to version1_finetune.h15\n",
      "57/57 [==============================] - 39s 650ms/step - loss: 1.3819 - accuracy: 0.4825 - val_loss: 1.3499 - val_accuracy: 0.5028 - lr: 1.0000e-05\n",
      "Epoch 16/100\n",
      "57/57 [==============================] - ETA: 0s - loss: 1.3659 - accuracy: 0.4874\n",
      "Epoch 16: val_accuracy did not improve from 0.50283\n",
      "57/57 [==============================] - 37s 629ms/step - loss: 1.3659 - accuracy: 0.4874 - val_loss: 1.3595 - val_accuracy: 0.4881 - lr: 1.0000e-05\n",
      "Epoch 17/100\n",
      "57/57 [==============================] - ETA: 0s - loss: 1.3520 - accuracy: 0.4973\n",
      "Epoch 17: val_accuracy did not improve from 0.50283\n",
      "57/57 [==============================] - 36s 600ms/step - loss: 1.3520 - accuracy: 0.4973 - val_loss: 1.3607 - val_accuracy: 0.4883 - lr: 1.0000e-05\n",
      "Epoch 18/100\n",
      "57/57 [==============================] - ETA: 0s - loss: 1.3486 - accuracy: 0.4943\n",
      "Epoch 18: val_accuracy improved from 0.50283 to 0.50722, saving model to version1_finetune.h15\n",
      "57/57 [==============================] - 38s 643ms/step - loss: 1.3486 - accuracy: 0.4943 - val_loss: 1.3374 - val_accuracy: 0.5072 - lr: 1.0000e-05\n",
      "Epoch 19/100\n",
      "57/57 [==============================] - ETA: 0s - loss: 1.3240 - accuracy: 0.5075\n",
      "Epoch 19: val_accuracy improved from 0.50722 to 0.51316, saving model to version1_finetune.h15\n",
      "57/57 [==============================] - 39s 655ms/step - loss: 1.3240 - accuracy: 0.5075 - val_loss: 1.3314 - val_accuracy: 0.5132 - lr: 1.0000e-05\n",
      "Epoch 20/100\n",
      "57/57 [==============================] - ETA: 0s - loss: 1.3061 - accuracy: 0.5111\n",
      "Epoch 20: val_accuracy improved from 0.51316 to 0.52066, saving model to version1_finetune.h15\n",
      "57/57 [==============================] - 40s 677ms/step - loss: 1.3061 - accuracy: 0.5111 - val_loss: 1.3021 - val_accuracy: 0.5207 - lr: 1.0000e-05\n",
      "Epoch 21/100\n",
      "57/57 [==============================] - ETA: 0s - loss: 1.2906 - accuracy: 0.5146\n",
      "Epoch 21: val_accuracy did not improve from 0.52066\n",
      "57/57 [==============================] - 37s 629ms/step - loss: 1.2906 - accuracy: 0.5146 - val_loss: 1.3082 - val_accuracy: 0.5139 - lr: 1.0000e-05\n",
      "Epoch 22/100\n",
      "57/57 [==============================] - ETA: 0s - loss: 1.2919 - accuracy: 0.5186\n",
      "Epoch 22: val_accuracy did not improve from 0.52066\n",
      "57/57 [==============================] - 36s 597ms/step - loss: 1.2919 - accuracy: 0.5186 - val_loss: 1.3084 - val_accuracy: 0.5180 - lr: 1.0000e-05\n",
      "Epoch 23/100\n",
      "57/57 [==============================] - ETA: 0s - loss: 1.2680 - accuracy: 0.5250\n",
      "Epoch 23: val_accuracy did not improve from 0.52066\n",
      "57/57 [==============================] - 37s 622ms/step - loss: 1.2680 - accuracy: 0.5250 - val_loss: 1.3294 - val_accuracy: 0.5123 - lr: 1.0000e-05\n",
      "Epoch 24/100\n",
      "57/57 [==============================] - ETA: 0s - loss: 1.2719 - accuracy: 0.5260\n",
      "Epoch 24: val_accuracy improved from 0.52066 to 0.52901, saving model to version1_finetune.h15\n",
      "57/57 [==============================] - 40s 677ms/step - loss: 1.2719 - accuracy: 0.5260 - val_loss: 1.2895 - val_accuracy: 0.5290 - lr: 1.0000e-05\n",
      "Epoch 25/100\n",
      "57/57 [==============================] - ETA: 0s - loss: 1.2506 - accuracy: 0.5311\n",
      "Epoch 25: val_accuracy did not improve from 0.52901\n",
      "57/57 [==============================] - 37s 629ms/step - loss: 1.2506 - accuracy: 0.5311 - val_loss: 1.3144 - val_accuracy: 0.5134 - lr: 1.0000e-05\n",
      "Epoch 26/100\n",
      "57/57 [==============================] - ETA: 0s - loss: 1.2367 - accuracy: 0.5374\n",
      "Epoch 26: val_accuracy did not improve from 0.52901\n",
      "57/57 [==============================] - 35s 598ms/step - loss: 1.2367 - accuracy: 0.5374 - val_loss: 1.2901 - val_accuracy: 0.5190 - lr: 1.0000e-05\n",
      "Epoch 27/100\n",
      "57/57 [==============================] - ETA: 0s - loss: 1.2309 - accuracy: 0.5371\n",
      "Epoch 27: val_accuracy did not improve from 0.52901\n",
      "57/57 [==============================] - 37s 629ms/step - loss: 1.2309 - accuracy: 0.5371 - val_loss: 1.2913 - val_accuracy: 0.5214 - lr: 1.0000e-05\n",
      "Epoch 28/100\n",
      "57/57 [==============================] - ETA: 0s - loss: 1.2120 - accuracy: 0.5507\n",
      "Epoch 28: val_accuracy improved from 0.52901 to 0.53411, saving model to version1_finetune.h15\n",
      "57/57 [==============================] - 40s 682ms/step - loss: 1.2120 - accuracy: 0.5507 - val_loss: 1.2691 - val_accuracy: 0.5341 - lr: 1.0000e-05\n",
      "Epoch 29/100\n",
      "57/57 [==============================] - ETA: 0s - loss: 1.2027 - accuracy: 0.5507\n",
      "Epoch 29: val_accuracy improved from 0.53411 to 0.53510, saving model to version1_finetune.h15\n",
      "57/57 [==============================] - 40s 679ms/step - loss: 1.2027 - accuracy: 0.5507 - val_loss: 1.2661 - val_accuracy: 0.5351 - lr: 1.0000e-05\n",
      "Epoch 30/100\n",
      "57/57 [==============================] - ETA: 0s - loss: 1.1904 - accuracy: 0.5582\n",
      "Epoch 30: val_accuracy improved from 0.53510 to 0.53765, saving model to version1_finetune.h15\n",
      "57/57 [==============================] - 38s 652ms/step - loss: 1.1904 - accuracy: 0.5582 - val_loss: 1.2804 - val_accuracy: 0.5376 - lr: 1.0000e-05\n",
      "Epoch 31/100\n",
      "57/57 [==============================] - ETA: 0s - loss: 1.1868 - accuracy: 0.5548\n",
      "Epoch 31: val_accuracy improved from 0.53765 to 0.54118, saving model to version1_finetune.h15\n",
      "57/57 [==============================] - 40s 677ms/step - loss: 1.1868 - accuracy: 0.5548 - val_loss: 1.2586 - val_accuracy: 0.5412 - lr: 1.0000e-05\n",
      "Epoch 32/100\n",
      "57/57 [==============================] - ETA: 0s - loss: 1.1671 - accuracy: 0.5653\n",
      "Epoch 32: val_accuracy did not improve from 0.54118\n",
      "57/57 [==============================] - 37s 629ms/step - loss: 1.1671 - accuracy: 0.5653 - val_loss: 1.2780 - val_accuracy: 0.5221 - lr: 1.0000e-05\n",
      "Epoch 33/100\n",
      "57/57 [==============================] - ETA: 0s - loss: 1.1666 - accuracy: 0.5658\n",
      "Epoch 33: val_accuracy improved from 0.54118 to 0.54656, saving model to version1_finetune.h15\n",
      "57/57 [==============================] - 39s 655ms/step - loss: 1.1666 - accuracy: 0.5658 - val_loss: 1.2540 - val_accuracy: 0.5466 - lr: 1.0000e-05\n",
      "Epoch 34/100\n",
      "57/57 [==============================] - ETA: 0s - loss: 1.1452 - accuracy: 0.5748\n",
      "Epoch 34: val_accuracy did not improve from 0.54656\n",
      "57/57 [==============================] - 36s 600ms/step - loss: 1.1452 - accuracy: 0.5748 - val_loss: 1.2433 - val_accuracy: 0.5429 - lr: 1.0000e-05\n",
      "Epoch 35/100\n",
      "57/57 [==============================] - ETA: 0s - loss: 1.1449 - accuracy: 0.5743\n",
      "Epoch 35: val_accuracy did not improve from 0.54656\n",
      "57/57 [==============================] - 37s 629ms/step - loss: 1.1449 - accuracy: 0.5743 - val_loss: 1.2402 - val_accuracy: 0.5434 - lr: 1.0000e-05\n",
      "Epoch 36/100\n",
      "57/57 [==============================] - ETA: 0s - loss: 1.1286 - accuracy: 0.5803\n",
      "Epoch 36: val_accuracy did not improve from 0.54656\n",
      "57/57 [==============================] - 37s 629ms/step - loss: 1.1286 - accuracy: 0.5803 - val_loss: 1.2619 - val_accuracy: 0.5318 - lr: 1.0000e-05\n",
      "Epoch 37/100\n",
      "57/57 [==============================] - ETA: 0s - loss: 1.1309 - accuracy: 0.5808\n",
      "Epoch 37: val_accuracy did not improve from 0.54656\n",
      "57/57 [==============================] - 36s 602ms/step - loss: 1.1309 - accuracy: 0.5808 - val_loss: 1.2607 - val_accuracy: 0.5376 - lr: 1.0000e-05\n",
      "Epoch 38/100\n",
      "57/57 [==============================] - ETA: 0s - loss: 1.1230 - accuracy: 0.5805\n",
      "Epoch 38: val_accuracy did not improve from 0.54656\n",
      "57/57 [==============================] - 36s 596ms/step - loss: 1.1230 - accuracy: 0.5805 - val_loss: 1.2386 - val_accuracy: 0.5401 - lr: 1.0000e-05\n",
      "Epoch 39/100\n",
      "57/57 [==============================] - ETA: 0s - loss: 1.1114 - accuracy: 0.5911\n",
      "Epoch 39: val_accuracy did not improve from 0.54656\n",
      "57/57 [==============================] - 37s 629ms/step - loss: 1.1114 - accuracy: 0.5911 - val_loss: 1.2310 - val_accuracy: 0.5420 - lr: 1.0000e-05\n",
      "Epoch 40/100\n",
      "57/57 [==============================] - ETA: 0s - loss: 1.0964 - accuracy: 0.5898\n",
      "Epoch 40: val_accuracy improved from 0.54656 to 0.55236, saving model to version1_finetune.h15\n",
      "57/57 [==============================] - 38s 645ms/step - loss: 1.0964 - accuracy: 0.5898 - val_loss: 1.2207 - val_accuracy: 0.5524 - lr: 1.0000e-05\n",
      "Epoch 41/100\n",
      "57/57 [==============================] - ETA: 0s - loss: 1.0884 - accuracy: 0.5955\n",
      "Epoch 41: val_accuracy did not improve from 0.55236\n",
      "57/57 [==============================] - 37s 629ms/step - loss: 1.0884 - accuracy: 0.5955 - val_loss: 1.2397 - val_accuracy: 0.5423 - lr: 1.0000e-05\n",
      "Epoch 42/100\n",
      "57/57 [==============================] - ETA: 0s - loss: 1.0840 - accuracy: 0.5965\n",
      "Epoch 42: val_accuracy improved from 0.55236 to 0.55774, saving model to version1_finetune.h15\n",
      "57/57 [==============================] - 38s 649ms/step - loss: 1.0840 - accuracy: 0.5965 - val_loss: 1.2191 - val_accuracy: 0.5577 - lr: 1.0000e-05\n",
      "Epoch 43/100\n",
      "57/57 [==============================] - ETA: 0s - loss: 1.0748 - accuracy: 0.6019\n",
      "Epoch 43: val_accuracy improved from 0.55774 to 0.55817, saving model to version1_finetune.h15\n",
      "57/57 [==============================] - 40s 682ms/step - loss: 1.0748 - accuracy: 0.6019 - val_loss: 1.2170 - val_accuracy: 0.5582 - lr: 1.0000e-05\n",
      "Epoch 44/100\n",
      "57/57 [==============================] - ETA: 0s - loss: 1.0680 - accuracy: 0.6033\n",
      "Epoch 44: val_accuracy did not improve from 0.55817\n",
      "57/57 [==============================] - 35s 593ms/step - loss: 1.0680 - accuracy: 0.6033 - val_loss: 1.2217 - val_accuracy: 0.5507 - lr: 1.0000e-05\n",
      "Epoch 45/100\n",
      "57/57 [==============================] - ETA: 0s - loss: 1.0512 - accuracy: 0.6102\n",
      "Epoch 45: val_accuracy did not improve from 0.55817\n",
      "57/57 [==============================] - 35s 600ms/step - loss: 1.0512 - accuracy: 0.6102 - val_loss: 1.2180 - val_accuracy: 0.5515 - lr: 1.0000e-05\n",
      "Epoch 46/100\n",
      "57/57 [==============================] - ETA: 0s - loss: 1.0406 - accuracy: 0.6139\n",
      "Epoch 46: val_accuracy did not improve from 0.55817\n",
      "57/57 [==============================] - 35s 594ms/step - loss: 1.0406 - accuracy: 0.6139 - val_loss: 1.2152 - val_accuracy: 0.5529 - lr: 1.0000e-05\n",
      "Epoch 47/100\n",
      "57/57 [==============================] - ETA: 0s - loss: 1.0445 - accuracy: 0.6131\n",
      "Epoch 47: val_accuracy did not improve from 0.55817\n",
      "57/57 [==============================] - 37s 629ms/step - loss: 1.0445 - accuracy: 0.6131 - val_loss: 1.2040 - val_accuracy: 0.5558 - lr: 1.0000e-05\n",
      "Epoch 48/100\n",
      "57/57 [==============================] - ETA: 0s - loss: 1.0285 - accuracy: 0.6184\n",
      "Epoch 48: val_accuracy did not improve from 0.55817\n",
      "57/57 [==============================] - 37s 630ms/step - loss: 1.0285 - accuracy: 0.6184 - val_loss: 1.2317 - val_accuracy: 0.5433 - lr: 1.0000e-05\n",
      "Epoch 49/100\n",
      "57/57 [==============================] - ETA: 0s - loss: 1.0376 - accuracy: 0.6152\n",
      "Epoch 49: val_accuracy did not improve from 0.55817\n",
      "57/57 [==============================] - 37s 629ms/step - loss: 1.0376 - accuracy: 0.6152 - val_loss: 1.2369 - val_accuracy: 0.5425 - lr: 1.0000e-05\n",
      "Epoch 50/100\n",
      "57/57 [==============================] - ETA: 0s - loss: 1.0327 - accuracy: 0.6179\n",
      "Epoch 50: val_accuracy did not improve from 0.55817\n",
      "57/57 [==============================] - 37s 629ms/step - loss: 1.0327 - accuracy: 0.6179 - val_loss: 1.2124 - val_accuracy: 0.5531 - lr: 1.0000e-05\n",
      "Epoch 51/100\n",
      "57/57 [==============================] - ETA: 0s - loss: 1.0109 - accuracy: 0.6248\n",
      "Epoch 51: val_accuracy improved from 0.55817 to 0.55887, saving model to version1_finetune.h15\n",
      "57/57 [==============================] - 38s 642ms/step - loss: 1.0109 - accuracy: 0.6248 - val_loss: 1.2079 - val_accuracy: 0.5589 - lr: 1.0000e-05\n",
      "Epoch 52/100\n",
      "57/57 [==============================] - ETA: 0s - loss: 1.0020 - accuracy: 0.6282\n",
      "Epoch 52: val_accuracy did not improve from 0.55887\n",
      "57/57 [==============================] - 35s 592ms/step - loss: 1.0020 - accuracy: 0.6282 - val_loss: 1.1927 - val_accuracy: 0.5587 - lr: 1.0000e-05\n",
      "Epoch 53/100\n",
      "57/57 [==============================] - ETA: 0s - loss: 0.9978 - accuracy: 0.6312\n",
      "Epoch 53: val_accuracy improved from 0.55887 to 0.56142, saving model to version1_finetune.h15\n",
      "57/57 [==============================] - 40s 681ms/step - loss: 0.9978 - accuracy: 0.6312 - val_loss: 1.2050 - val_accuracy: 0.5614 - lr: 1.0000e-05\n",
      "Epoch 54/100\n",
      "57/57 [==============================] - ETA: 0s - loss: 1.0011 - accuracy: 0.6301\n",
      "Epoch 54: val_accuracy did not improve from 0.56142\n",
      "57/57 [==============================] - 37s 629ms/step - loss: 1.0011 - accuracy: 0.6301 - val_loss: 1.1949 - val_accuracy: 0.5614 - lr: 1.0000e-05\n",
      "Epoch 55/100\n",
      "57/57 [==============================] - ETA: 0s - loss: 0.9826 - accuracy: 0.6368\n",
      "Epoch 55: val_accuracy did not improve from 0.56142\n",
      "57/57 [==============================] - 35s 597ms/step - loss: 0.9826 - accuracy: 0.6368 - val_loss: 1.2251 - val_accuracy: 0.5517 - lr: 1.0000e-05\n",
      "Epoch 56/100\n",
      "57/57 [==============================] - ETA: 0s - loss: 0.9876 - accuracy: 0.6329\n",
      "Epoch 56: val_accuracy improved from 0.56142 to 0.56836, saving model to version1_finetune.h15\n",
      "57/57 [==============================] - 40s 676ms/step - loss: 0.9876 - accuracy: 0.6329 - val_loss: 1.1880 - val_accuracy: 0.5684 - lr: 1.0000e-05\n",
      "Epoch 57/100\n",
      "57/57 [==============================] - ETA: 0s - loss: 0.9722 - accuracy: 0.6414\n",
      "Epoch 57: val_accuracy did not improve from 0.56836\n",
      "57/57 [==============================] - 37s 629ms/step - loss: 0.9722 - accuracy: 0.6414 - val_loss: 1.2062 - val_accuracy: 0.5539 - lr: 1.0000e-05\n",
      "Epoch 58/100\n",
      "57/57 [==============================] - ETA: 0s - loss: 0.9559 - accuracy: 0.6474\n",
      "Epoch 58: val_accuracy did not improve from 0.56836\n",
      "57/57 [==============================] - 35s 599ms/step - loss: 0.9559 - accuracy: 0.6474 - val_loss: 1.1894 - val_accuracy: 0.5669 - lr: 1.0000e-05\n",
      "Epoch 59/100\n",
      "57/57 [==============================] - ETA: 0s - loss: 0.9746 - accuracy: 0.6392\n",
      "Epoch 59: val_accuracy did not improve from 0.56836\n",
      "57/57 [==============================] - 37s 629ms/step - loss: 0.9746 - accuracy: 0.6392 - val_loss: 1.1811 - val_accuracy: 0.5645 - lr: 1.0000e-05\n",
      "Epoch 60/100\n",
      "57/57 [==============================] - ETA: 0s - loss: 0.9440 - accuracy: 0.6489\n",
      "Epoch 60: val_accuracy did not improve from 0.56836\n",
      "57/57 [==============================] - 37s 629ms/step - loss: 0.9440 - accuracy: 0.6489 - val_loss: 1.1857 - val_accuracy: 0.5640 - lr: 1.0000e-05\n",
      "Epoch 61/100\n",
      "57/57 [==============================] - ETA: 0s - loss: 0.9519 - accuracy: 0.6508\n",
      "Epoch 61: val_accuracy did not improve from 0.56836\n",
      "57/57 [==============================] - 35s 596ms/step - loss: 0.9519 - accuracy: 0.6508 - val_loss: 1.1900 - val_accuracy: 0.5671 - lr: 1.0000e-05\n",
      "Epoch 62/100\n",
      "57/57 [==============================] - ETA: 0s - loss: 0.9342 - accuracy: 0.6521\n",
      "Epoch 62: val_accuracy did not improve from 0.56836\n",
      "57/57 [==============================] - 37s 629ms/step - loss: 0.9342 - accuracy: 0.6521 - val_loss: 1.1966 - val_accuracy: 0.5638 - lr: 1.0000e-05\n",
      "Epoch 63/100\n",
      "57/57 [==============================] - ETA: 0s - loss: 0.9315 - accuracy: 0.6594\n",
      "Epoch 63: val_accuracy did not improve from 0.56836\n",
      "57/57 [==============================] - 36s 603ms/step - loss: 0.9315 - accuracy: 0.6594 - val_loss: 1.2028 - val_accuracy: 0.5580 - lr: 1.0000e-05\n",
      "Epoch 64/100\n",
      "57/57 [==============================] - ETA: 0s - loss: 0.9253 - accuracy: 0.6575\n",
      "Epoch 64: val_accuracy did not improve from 0.56836\n",
      "57/57 [==============================] - 37s 629ms/step - loss: 0.9253 - accuracy: 0.6575 - val_loss: 1.2073 - val_accuracy: 0.5535 - lr: 1.0000e-05\n",
      "Epoch 65/100\n",
      "57/57 [==============================] - ETA: 0s - loss: 0.9276 - accuracy: 0.6585\n",
      "Epoch 65: val_accuracy did not improve from 0.56836\n",
      "57/57 [==============================] - 38s 639ms/step - loss: 0.9276 - accuracy: 0.6585 - val_loss: 1.1784 - val_accuracy: 0.5645 - lr: 1.0000e-05\n",
      "Epoch 66/100\n",
      "57/57 [==============================] - ETA: 0s - loss: 0.9074 - accuracy: 0.6666\n",
      "Epoch 66: val_accuracy did not improve from 0.56836\n",
      "57/57 [==============================] - 37s 629ms/step - loss: 0.9074 - accuracy: 0.6666 - val_loss: 1.1791 - val_accuracy: 0.5681 - lr: 1.0000e-05\n",
      "Epoch 67/100\n",
      "57/57 [==============================] - ETA: 0s - loss: 0.8991 - accuracy: 0.6674\n",
      "Epoch 67: val_accuracy improved from 0.56836 to 0.57161, saving model to version1_finetune.h15\n",
      "57/57 [==============================] - 39s 658ms/step - loss: 0.8991 - accuracy: 0.6674 - val_loss: 1.1739 - val_accuracy: 0.5716 - lr: 1.0000e-05\n",
      "Epoch 68/100\n",
      "57/57 [==============================] - ETA: 0s - loss: 0.9008 - accuracy: 0.6660\n",
      "Epoch 68: val_accuracy did not improve from 0.57161\n",
      "57/57 [==============================] - 35s 596ms/step - loss: 0.9008 - accuracy: 0.6660 - val_loss: 1.2102 - val_accuracy: 0.5531 - lr: 1.0000e-05\n",
      "Epoch 69/100\n",
      "57/57 [==============================] - ETA: 0s - loss: 0.9011 - accuracy: 0.6677\n",
      "Epoch 69: val_accuracy did not improve from 0.57161\n",
      "57/57 [==============================] - 35s 597ms/step - loss: 0.9011 - accuracy: 0.6677 - val_loss: 1.1733 - val_accuracy: 0.5689 - lr: 1.0000e-05\n",
      "Epoch 70/100\n",
      "57/57 [==============================] - ETA: 0s - loss: 0.8925 - accuracy: 0.6730\n",
      "Epoch 70: val_accuracy improved from 0.57161 to 0.57515, saving model to version1_finetune.h15\n",
      "57/57 [==============================] - 38s 641ms/step - loss: 0.8925 - accuracy: 0.6730 - val_loss: 1.1667 - val_accuracy: 0.5751 - lr: 1.0000e-05\n",
      "Epoch 71/100\n",
      "57/57 [==============================] - ETA: 0s - loss: 0.8874 - accuracy: 0.6737\n",
      "Epoch 71: val_accuracy did not improve from 0.57515\n",
      "57/57 [==============================] - 35s 598ms/step - loss: 0.8874 - accuracy: 0.6737 - val_loss: 1.1716 - val_accuracy: 0.5718 - lr: 1.0000e-05\n",
      "Epoch 72/100\n",
      "57/57 [==============================] - ETA: 0s - loss: 0.8718 - accuracy: 0.6802\n",
      "Epoch 72: val_accuracy did not improve from 0.57515\n",
      "57/57 [==============================] - 37s 598ms/step - loss: 0.8718 - accuracy: 0.6802 - val_loss: 1.1638 - val_accuracy: 0.5679 - lr: 1.0000e-05\n",
      "Epoch 73/100\n",
      "57/57 [==============================] - ETA: 0s - loss: 0.8700 - accuracy: 0.6806\n",
      "Epoch 73: val_accuracy did not improve from 0.57515\n",
      "57/57 [==============================] - 37s 629ms/step - loss: 0.8700 - accuracy: 0.6806 - val_loss: 1.1738 - val_accuracy: 0.5703 - lr: 1.0000e-05\n",
      "Epoch 74/100\n",
      "57/57 [==============================] - ETA: 0s - loss: 0.8693 - accuracy: 0.6834\n",
      "Epoch 74: val_accuracy did not improve from 0.57515\n",
      "57/57 [==============================] - 37s 629ms/step - loss: 0.8693 - accuracy: 0.6834 - val_loss: 1.1679 - val_accuracy: 0.5723 - lr: 1.0000e-05\n",
      "Epoch 75/100\n",
      "57/57 [==============================] - ETA: 0s - loss: 0.8552 - accuracy: 0.6879\n",
      "Epoch 75: val_accuracy did not improve from 0.57515\n",
      "57/57 [==============================] - 37s 629ms/step - loss: 0.8552 - accuracy: 0.6879 - val_loss: 1.1640 - val_accuracy: 0.5744 - lr: 1.0000e-05\n",
      "Epoch 76/100\n",
      "57/57 [==============================] - ETA: 0s - loss: 0.8508 - accuracy: 0.6893\n",
      "Epoch 76: val_accuracy did not improve from 0.57515\n",
      "57/57 [==============================] - 35s 596ms/step - loss: 0.8508 - accuracy: 0.6893 - val_loss: 1.1812 - val_accuracy: 0.5679 - lr: 1.0000e-05\n",
      "Epoch 77/100\n",
      "57/57 [==============================] - ETA: 0s - loss: 0.8445 - accuracy: 0.6927\n",
      "Epoch 77: val_accuracy improved from 0.57515 to 0.57600, saving model to version1_finetune.h15\n",
      "57/57 [==============================] - 38s 655ms/step - loss: 0.8445 - accuracy: 0.6927 - val_loss: 1.1553 - val_accuracy: 0.5760 - lr: 1.0000e-05\n",
      "Epoch 78/100\n",
      "57/57 [==============================] - ETA: 0s - loss: 0.8342 - accuracy: 0.6919\n",
      "Epoch 78: val_accuracy did not improve from 0.57600\n",
      "57/57 [==============================] - 39s 654ms/step - loss: 0.8342 - accuracy: 0.6919 - val_loss: 1.1722 - val_accuracy: 0.5678 - lr: 1.0000e-05\n",
      "Epoch 79/100\n",
      "57/57 [==============================] - ETA: 0s - loss: 0.8385 - accuracy: 0.6970\n",
      "Epoch 79: val_accuracy did not improve from 0.57600\n",
      "57/57 [==============================] - 37s 629ms/step - loss: 0.8385 - accuracy: 0.6970 - val_loss: 1.1789 - val_accuracy: 0.5712 - lr: 1.0000e-05\n",
      "Epoch 80/100\n",
      "57/57 [==============================] - ETA: 0s - loss: 0.8297 - accuracy: 0.6965\n",
      "Epoch 80: val_accuracy did not improve from 0.57600\n",
      "57/57 [==============================] - 35s 600ms/step - loss: 0.8297 - accuracy: 0.6965 - val_loss: 1.1846 - val_accuracy: 0.5706 - lr: 1.0000e-05\n",
      "Epoch 81/100\n",
      "57/57 [==============================] - ETA: 0s - loss: 0.8299 - accuracy: 0.6960\n",
      "Epoch 81: val_accuracy did not improve from 0.57600\n",
      "57/57 [==============================] - 39s 661ms/step - loss: 0.8299 - accuracy: 0.6960 - val_loss: 1.1690 - val_accuracy: 0.5676 - lr: 1.0000e-05\n",
      "Epoch 82/100\n",
      "57/57 [==============================] - ETA: 0s - loss: 0.8221 - accuracy: 0.6998\n",
      "Epoch 82: val_accuracy did not improve from 0.57600\n",
      "57/57 [==============================] - 35s 598ms/step - loss: 0.8221 - accuracy: 0.6998 - val_loss: 1.1547 - val_accuracy: 0.5749 - lr: 1.0000e-05\n",
      "Epoch 83/100\n",
      "57/57 [==============================] - ETA: 0s - loss: 0.8113 - accuracy: 0.7030\n",
      "Epoch 83: val_accuracy did not improve from 0.57600\n",
      "57/57 [==============================] - 37s 629ms/step - loss: 0.8113 - accuracy: 0.7030 - val_loss: 1.1622 - val_accuracy: 0.5712 - lr: 1.0000e-05\n",
      "Epoch 84/100\n",
      "57/57 [==============================] - ETA: 0s - loss: 0.8103 - accuracy: 0.7028\n",
      "Epoch 84: val_accuracy did not improve from 0.57600\n",
      "57/57 [==============================] - 37s 629ms/step - loss: 0.8103 - accuracy: 0.7028 - val_loss: 1.1567 - val_accuracy: 0.5742 - lr: 1.0000e-05\n",
      "Epoch 85/100\n",
      "57/57 [==============================] - ETA: 0s - loss: 0.8109 - accuracy: 0.7039\n",
      "Epoch 85: val_accuracy did not improve from 0.57600\n",
      "57/57 [==============================] - 37s 629ms/step - loss: 0.8109 - accuracy: 0.7039 - val_loss: 1.1714 - val_accuracy: 0.5744 - lr: 1.0000e-05\n",
      "Epoch 86/100\n",
      "57/57 [==============================] - ETA: 0s - loss: 0.7999 - accuracy: 0.7066\n",
      "Epoch 86: val_accuracy did not improve from 0.57600\n",
      "57/57 [==============================] - 35s 598ms/step - loss: 0.7999 - accuracy: 0.7066 - val_loss: 1.1527 - val_accuracy: 0.5744 - lr: 1.0000e-05\n",
      "Epoch 87/100\n",
      "57/57 [==============================] - ETA: 0s - loss: 0.7935 - accuracy: 0.7118\n",
      "Epoch 87: val_accuracy did not improve from 0.57600\n",
      "57/57 [==============================] - 37s 629ms/step - loss: 0.7935 - accuracy: 0.7118 - val_loss: 1.1723 - val_accuracy: 0.5654 - lr: 1.0000e-05\n",
      "Epoch 88/100\n",
      "57/57 [==============================] - ETA: 0s - loss: 0.7865 - accuracy: 0.7155\n",
      "Epoch 88: val_accuracy improved from 0.57600 to 0.57656, saving model to version1_finetune.h15\n",
      "57/57 [==============================] - 40s 682ms/step - loss: 0.7865 - accuracy: 0.7155 - val_loss: 1.1560 - val_accuracy: 0.5766 - lr: 1.0000e-05\n",
      "Epoch 89/100\n",
      "57/57 [==============================] - ETA: 0s - loss: 0.7858 - accuracy: 0.7150\n",
      "Epoch 89: val_accuracy did not improve from 0.57656\n",
      "57/57 [==============================] - 42s 721ms/step - loss: 0.7858 - accuracy: 0.7150 - val_loss: 1.1642 - val_accuracy: 0.5710 - lr: 1.0000e-05\n",
      "Epoch 90/100\n",
      "57/57 [==============================] - ETA: 0s - loss: 0.7730 - accuracy: 0.7195\n",
      "Epoch 90: val_accuracy did not improve from 0.57656\n",
      "57/57 [==============================] - 38s 654ms/step - loss: 0.7730 - accuracy: 0.7195 - val_loss: 1.1653 - val_accuracy: 0.5692 - lr: 1.0000e-05\n",
      "Epoch 91/100\n",
      "57/57 [==============================] - ETA: 0s - loss: 0.7762 - accuracy: 0.7154\n",
      "Epoch 91: val_accuracy did not improve from 0.57656\n",
      "57/57 [==============================] - 40s 678ms/step - loss: 0.7762 - accuracy: 0.7154 - val_loss: 1.1645 - val_accuracy: 0.5749 - lr: 1.0000e-05\n",
      "Epoch 92/100\n",
      "57/57 [==============================] - ETA: 0s - loss: 0.7764 - accuracy: 0.7158\n",
      "Epoch 92: val_accuracy did not improve from 0.57656\n",
      "57/57 [==============================] - 36s 607ms/step - loss: 0.7764 - accuracy: 0.7158 - val_loss: 1.1805 - val_accuracy: 0.5716 - lr: 1.0000e-05\n",
      "Epoch 93/100\n",
      "57/57 [==============================] - ETA: 0s - loss: 0.7737 - accuracy: 0.7195\n",
      "Epoch 93: val_accuracy improved from 0.57656 to 0.57741, saving model to version1_finetune.h15\n",
      "57/57 [==============================] - 41s 699ms/step - loss: 0.7737 - accuracy: 0.7195 - val_loss: 1.1530 - val_accuracy: 0.5774 - lr: 1.0000e-05\n",
      "Epoch 94/100\n",
      "57/57 [==============================] - ETA: 0s - loss: 0.7581 - accuracy: 0.7252\n",
      "Epoch 94: val_accuracy improved from 0.57741 to 0.58307, saving model to version1_finetune.h15\n",
      "57/57 [==============================] - 38s 648ms/step - loss: 0.7581 - accuracy: 0.7252 - val_loss: 1.1512 - val_accuracy: 0.5831 - lr: 1.0000e-05\n",
      "Epoch 95/100\n",
      "57/57 [==============================] - ETA: 0s - loss: 0.7502 - accuracy: 0.7291\n",
      "Epoch 95: val_accuracy did not improve from 0.58307\n",
      "57/57 [==============================] - 35s 596ms/step - loss: 0.7502 - accuracy: 0.7291 - val_loss: 1.1461 - val_accuracy: 0.5788 - lr: 1.0000e-05\n",
      "Epoch 96/100\n",
      "57/57 [==============================] - ETA: 0s - loss: 0.7440 - accuracy: 0.7303\n",
      "Epoch 96: val_accuracy did not improve from 0.58307\n",
      "57/57 [==============================] - 36s 599ms/step - loss: 0.7440 - accuracy: 0.7303 - val_loss: 1.1660 - val_accuracy: 0.5743 - lr: 1.0000e-05\n",
      "Epoch 97/100\n",
      "57/57 [==============================] - ETA: 0s - loss: 0.7436 - accuracy: 0.7284\n",
      "Epoch 97: val_accuracy did not improve from 0.58307\n",
      "57/57 [==============================] - 35s 601ms/step - loss: 0.7436 - accuracy: 0.7284 - val_loss: 1.1606 - val_accuracy: 0.5770 - lr: 1.0000e-05\n",
      "Epoch 98/100\n",
      "57/57 [==============================] - ETA: 0s - loss: 0.7422 - accuracy: 0.7336\n",
      "Epoch 98: val_accuracy did not improve from 0.58307\n",
      "57/57 [==============================] - 35s 596ms/step - loss: 0.7422 - accuracy: 0.7336 - val_loss: 1.1621 - val_accuracy: 0.5747 - lr: 1.0000e-05\n",
      "Epoch 99/100\n",
      "57/57 [==============================] - ETA: 0s - loss: 0.7351 - accuracy: 0.7344\n",
      "Epoch 99: val_accuracy did not improve from 0.58307\n",
      "57/57 [==============================] - 37s 629ms/step - loss: 0.7351 - accuracy: 0.7344 - val_loss: 1.1556 - val_accuracy: 0.5790 - lr: 1.0000e-05\n",
      "Epoch 100/100\n",
      "57/57 [==============================] - ETA: 0s - loss: 0.7362 - accuracy: 0.7343\n",
      "Epoch 100: val_accuracy improved from 0.58307 to 0.58322, saving model to version1_finetune.h15\n",
      "57/57 [==============================] - 40s 680ms/step - loss: 0.7362 - accuracy: 0.7343 - val_loss: 1.1386 - val_accuracy: 0.5832 - lr: 1.0000e-05\n"
     ]
    }
   ],
   "source": [
    "hist = model.fit(train, epochs=EPOCHS, validation_data=test, callbacks=[earlystopping,lr_reduce,checkpoint])"
   ]
  },
  {
   "cell_type": "code",
   "execution_count": 13,
   "id": "41c243c3",
   "metadata": {
    "execution": {
     "iopub.execute_input": "2023-02-28T14:01:41.071803Z",
     "iopub.status.busy": "2023-02-28T14:01:41.071077Z",
     "iopub.status.idle": "2023-02-28T14:01:44.291034Z",
     "shell.execute_reply": "2023-02-28T14:01:44.290067Z"
    },
    "papermill": {
     "duration": 3.54334,
     "end_time": "2023-02-28T14:01:44.293363",
     "exception": false,
     "start_time": "2023-02-28T14:01:40.750023",
     "status": "completed"
    },
    "tags": []
   },
   "outputs": [
    {
     "name": "stdout",
     "output_type": "stream",
     "text": [
      "14/14 [==============================] - 3s 141ms/step - loss: 1.1386 - accuracy: 0.5832\n"
     ]
    }
   ],
   "source": [
    "loss, acc = model.evaluate(test, verbose=1)\n"
   ]
  },
  {
   "cell_type": "code",
   "execution_count": 14,
   "id": "05336b51",
   "metadata": {
    "execution": {
     "iopub.execute_input": "2023-02-28T14:01:44.931546Z",
     "iopub.status.busy": "2023-02-28T14:01:44.931172Z",
     "iopub.status.idle": "2023-02-28T14:01:45.132682Z",
     "shell.execute_reply": "2023-02-28T14:01:45.131604Z"
    },
    "papermill": {
     "duration": 0.523197,
     "end_time": "2023-02-28T14:01:45.135274",
     "exception": false,
     "start_time": "2023-02-28T14:01:44.612077",
     "status": "completed"
    },
    "tags": []
   },
   "outputs": [],
   "source": [
    " model.save(\"Version1.h5\")\n"
   ]
  },
  {
   "cell_type": "code",
   "execution_count": 15,
   "id": "522e8f18",
   "metadata": {
    "execution": {
     "iopub.execute_input": "2023-02-28T14:01:45.838673Z",
     "iopub.status.busy": "2023-02-28T14:01:45.838271Z",
     "iopub.status.idle": "2023-02-28T14:01:45.849770Z",
     "shell.execute_reply": "2023-02-28T14:01:45.848823Z"
    },
    "papermill": {
     "duration": 0.387866,
     "end_time": "2023-02-28T14:01:45.852029",
     "exception": false,
     "start_time": "2023-02-28T14:01:45.464163",
     "status": "completed"
    },
    "tags": []
   },
   "outputs": [],
   "source": [
    "import pandas as pd\n",
    "new = pd.DataFrame.from_dict(hist.history)\n",
    "new.to_csv(\"Version1.csv\")"
   ]
  }
 ],
 "metadata": {
  "kernelspec": {
   "display_name": "Python 3",
   "language": "python",
   "name": "python3"
  },
  "language_info": {
   "codemirror_mode": {
    "name": "ipython",
    "version": 3
   },
   "file_extension": ".py",
   "mimetype": "text/x-python",
   "name": "python",
   "nbconvert_exporter": "python",
   "pygments_lexer": "ipython3",
   "version": "3.7.12"
  },
  "papermill": {
   "default_parameters": {},
   "duration": 4070.023606,
   "end_time": "2023-02-28T14:01:49.334418",
   "environment_variables": {},
   "exception": null,
   "input_path": "__notebook__.ipynb",
   "output_path": "__notebook__.ipynb",
   "parameters": {},
   "start_time": "2023-02-28T12:53:59.310812",
   "version": "2.4.0"
  }
 },
 "nbformat": 4,
 "nbformat_minor": 5
}
