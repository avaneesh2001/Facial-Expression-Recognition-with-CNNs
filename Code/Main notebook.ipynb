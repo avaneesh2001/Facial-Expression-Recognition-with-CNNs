{
 "cells": [
  {
   "cell_type": "code",
   "execution_count": 1,
   "id": "93c8cf26",
   "metadata": {
    "execution": {
     "iopub.execute_input": "2023-03-01T10:49:32.680814Z",
     "iopub.status.busy": "2023-03-01T10:49:32.679661Z",
     "iopub.status.idle": "2023-03-01T10:49:39.693849Z",
     "shell.execute_reply": "2023-03-01T10:49:39.692672Z"
    },
    "papermill": {
     "duration": 7.023449,
     "end_time": "2023-03-01T10:49:39.696512",
     "exception": false,
     "start_time": "2023-03-01T10:49:32.673063",
     "status": "completed"
    },
    "tags": []
   },
   "outputs": [],
   "source": [
    "# Import necessary libraries\n",
    "import tensorflow as tf\n",
    "from tensorflow.keras.layers import Input, Dense, Dropout\n",
    "from tensorflow.keras.layers import Conv2D, MaxPooling2D, AveragePooling2D,BatchNormalization\n",
    "from tensorflow.keras.layers import Flatten, Concatenate\n",
    "from tensorflow.keras.models import Model\n",
    "from tensorflow.keras.preprocessing.image import ImageDataGenerator\n",
    "from tensorflow.keras.optimizers import Adam\n"
   ]
  },
  {
   "cell_type": "code",
   "execution_count": 2,
   "id": "d07b7ca4",
   "metadata": {
    "execution": {
     "iopub.execute_input": "2023-03-01T10:49:39.706924Z",
     "iopub.status.busy": "2023-03-01T10:49:39.705654Z",
     "iopub.status.idle": "2023-03-01T10:49:39.710915Z",
     "shell.execute_reply": "2023-03-01T10:49:39.709914Z"
    },
    "papermill": {
     "duration": 0.012344,
     "end_time": "2023-03-01T10:49:39.713074",
     "exception": false,
     "start_time": "2023-03-01T10:49:39.700730",
     "status": "completed"
    },
    "tags": []
   },
   "outputs": [],
   "source": [
    "from tensorflow.keras.models import Sequential\n"
   ]
  },
  {
   "cell_type": "code",
   "execution_count": 3,
   "id": "d9505ff9",
   "metadata": {
    "execution": {
     "iopub.execute_input": "2023-03-01T10:49:39.722021Z",
     "iopub.status.busy": "2023-03-01T10:49:39.721749Z",
     "iopub.status.idle": "2023-03-01T10:49:39.726972Z",
     "shell.execute_reply": "2023-03-01T10:49:39.726091Z"
    },
    "papermill": {
     "duration": 0.012094,
     "end_time": "2023-03-01T10:49:39.729012",
     "exception": false,
     "start_time": "2023-03-01T10:49:39.716918",
     "status": "completed"
    },
    "tags": []
   },
   "outputs": [],
   "source": [
    "# Set constants\n",
    "IMAGE_SIZE = 48\n",
    "BATCH_SIZE = 128\n",
    "NUM_CLASSES = 7\n",
    "EPOCHS = 100"
   ]
  },
  {
   "cell_type": "code",
   "execution_count": 4,
   "id": "9adc1c7b",
   "metadata": {
    "execution": {
     "iopub.execute_input": "2023-03-01T10:49:39.739191Z",
     "iopub.status.busy": "2023-03-01T10:49:39.738320Z",
     "iopub.status.idle": "2023-03-01T10:49:39.743981Z",
     "shell.execute_reply": "2023-03-01T10:49:39.743110Z"
    },
    "papermill": {
     "duration": 0.012568,
     "end_time": "2023-03-01T10:49:39.746059",
     "exception": false,
     "start_time": "2023-03-01T10:49:39.733491",
     "status": "completed"
    },
    "tags": []
   },
   "outputs": [],
   "source": [
    "# Define data generators for training and validation sets\n",
    "train_datagen = ImageDataGenerator(rescale=1./255,\n",
    "                                   rotation_range=30,\n",
    "                                   shear_range=0.3,\n",
    "                                   zoom_range=0.3,\n",
    "                                   width_shift_range=0.4,\n",
    "                                   height_shift_range=0.4,\n",
    "                                   horizontal_flip=True,\n",
    "                                   fill_mode='nearest')\n",
    "test_datagen = ImageDataGenerator(rescale=1./255)"
   ]
  },
  {
   "cell_type": "code",
   "execution_count": 5,
   "id": "11e4ec6a",
   "metadata": {
    "execution": {
     "iopub.execute_input": "2023-03-01T10:49:39.754716Z",
     "iopub.status.busy": "2023-03-01T10:49:39.754430Z",
     "iopub.status.idle": "2023-03-01T10:49:56.852505Z",
     "shell.execute_reply": "2023-03-01T10:49:56.851530Z"
    },
    "papermill": {
     "duration": 17.1049,
     "end_time": "2023-03-01T10:49:56.854804",
     "exception": false,
     "start_time": "2023-03-01T10:49:39.749904",
     "status": "completed"
    },
    "tags": []
   },
   "outputs": [
    {
     "name": "stdout",
     "output_type": "stream",
     "text": [
      "Found 28709 images belonging to 7 classes.\n"
     ]
    }
   ],
   "source": [
    "train_generator= train_datagen.flow_from_directory(directory = '/kaggle/input/fer2013/train',\n",
    "                                                    target_size=(IMAGE_SIZE,IMAGE_SIZE),\n",
    "                                                    batch_size=BATCH_SIZE,\n",
    "                                                    class_mode='categorical',\n",
    "                                                    color_mode='grayscale')"
   ]
  },
  {
   "cell_type": "code",
   "execution_count": 6,
   "id": "e1011e0c",
   "metadata": {
    "execution": {
     "iopub.execute_input": "2023-03-01T10:49:56.864906Z",
     "iopub.status.busy": "2023-03-01T10:49:56.864049Z",
     "iopub.status.idle": "2023-03-01T10:49:56.871527Z",
     "shell.execute_reply": "2023-03-01T10:49:56.870515Z"
    },
    "papermill": {
     "duration": 0.014454,
     "end_time": "2023-03-01T10:49:56.873582",
     "exception": false,
     "start_time": "2023-03-01T10:49:56.859128",
     "status": "completed"
    },
    "tags": []
   },
   "outputs": [
    {
     "data": {
      "text/plain": [
       "(48, 48, 1)"
      ]
     },
     "execution_count": 6,
     "metadata": {},
     "output_type": "execute_result"
    }
   ],
   "source": [
    "image_shape = train_generator.image_shape\n",
    "image_shape"
   ]
  },
  {
   "cell_type": "code",
   "execution_count": 7,
   "id": "b58d2bc2",
   "metadata": {
    "execution": {
     "iopub.execute_input": "2023-03-01T10:49:56.883248Z",
     "iopub.status.busy": "2023-03-01T10:49:56.882320Z",
     "iopub.status.idle": "2023-03-01T10:50:01.021057Z",
     "shell.execute_reply": "2023-03-01T10:50:01.020011Z"
    },
    "papermill": {
     "duration": 4.146137,
     "end_time": "2023-03-01T10:50:01.023588",
     "exception": false,
     "start_time": "2023-03-01T10:49:56.877451",
     "status": "completed"
    },
    "tags": []
   },
   "outputs": [
    {
     "name": "stdout",
     "output_type": "stream",
     "text": [
      "Found 7178 images belonging to 7 classes.\n"
     ]
    }
   ],
   "source": [
    "val_generator = test_datagen.flow_from_directory(directory = '/kaggle/input/fer2013/test',\n",
    "                                                    target_size=(IMAGE_SIZE,IMAGE_SIZE),\n",
    "                                                    batch_size=BATCH_SIZE,\n",
    "                                                    class_mode='categorical',\n",
    "                                                    color_mode='grayscale')"
   ]
  },
  {
   "cell_type": "code",
   "execution_count": 8,
   "id": "7b391f20",
   "metadata": {
    "execution": {
     "iopub.execute_input": "2023-03-01T10:50:01.033554Z",
     "iopub.status.busy": "2023-03-01T10:50:01.033251Z",
     "iopub.status.idle": "2023-03-01T10:50:01.039345Z",
     "shell.execute_reply": "2023-03-01T10:50:01.038320Z"
    },
    "papermill": {
     "duration": 0.013424,
     "end_time": "2023-03-01T10:50:01.041351",
     "exception": false,
     "start_time": "2023-03-01T10:50:01.027927",
     "status": "completed"
    },
    "tags": []
   },
   "outputs": [
    {
     "data": {
      "text/plain": [
       "(48, 48, 1)"
      ]
     },
     "execution_count": 8,
     "metadata": {},
     "output_type": "execute_result"
    }
   ],
   "source": [
    "image_shape = val_generator.image_shape\n",
    "image_shape"
   ]
  },
  {
   "cell_type": "code",
   "execution_count": 9,
   "id": "0fa4dc8c",
   "metadata": {
    "execution": {
     "iopub.execute_input": "2023-03-01T10:50:01.050725Z",
     "iopub.status.busy": "2023-03-01T10:50:01.050432Z",
     "iopub.status.idle": "2023-03-01T10:50:01.056440Z",
     "shell.execute_reply": "2023-03-01T10:50:01.055377Z"
    },
    "papermill": {
     "duration": 0.013139,
     "end_time": "2023-03-01T10:50:01.058498",
     "exception": false,
     "start_time": "2023-03-01T10:50:01.045359",
     "status": "completed"
    },
    "tags": []
   },
   "outputs": [],
   "source": [
    "def inception_module(layer_in, f1, f2, f3):\n",
    "# 1x1 conv\n",
    " conv1 = Conv2D(f1, (1,1), padding='same', activation='relu')(layer_in)\n",
    " # 3x3 conv\n",
    " conv3 = Conv2D(f2, (3,3), padding='same', activation='relu')(layer_in)\n",
    " # 5x5 conv\n",
    " conv5 = Conv2D(f3, (5,5), padding='same', activation='relu')(layer_in)\n",
    " # 3x3 max pooling\n",
    " pool = MaxPooling2D((2,2), strides=(1,1), padding='same')(layer_in)\n",
    " # concatenate filters, assumes filters/channels last\n",
    " out = Concatenate(axis=-1)([conv1, conv3, conv5, pool])\n",
    " return out"
   ]
  },
  {
   "cell_type": "code",
   "execution_count": 10,
   "id": "ad0ebcc8",
   "metadata": {
    "execution": {
     "iopub.execute_input": "2023-03-01T10:50:01.068247Z",
     "iopub.status.busy": "2023-03-01T10:50:01.067461Z",
     "iopub.status.idle": "2023-03-01T10:50:04.112640Z",
     "shell.execute_reply": "2023-03-01T10:50:04.111633Z"
    },
    "papermill": {
     "duration": 3.052838,
     "end_time": "2023-03-01T10:50:04.115362",
     "exception": false,
     "start_time": "2023-03-01T10:50:01.062524",
     "status": "completed"
    },
    "tags": []
   },
   "outputs": [],
   "source": [
    "input_layer = Input(shape=image_shape)\n",
    "\n",
    "x = Conv2D(32,(3,3),padding='same', activation='relu')(input_layer)\n",
    "x = MaxPooling2D((2,2),strides = (1,1),padding='same')(x)\n",
    "x = Dropout(0.2)(x)\n",
    "\n",
    "x = BatchNormalization()(x)\n",
    "\n",
    "x = Conv2D(64,(5,5),padding='same', activation='relu')(input_layer)\n",
    "x = MaxPooling2D((2,2),strides = (1,1),padding='same')(x)\n",
    "x = Dropout(0.2)(x)\n",
    "\n",
    "x = BatchNormalization()(x)\n",
    "\n",
    "x = inception_module(x, 64, 128, 32)\n",
    "x = Dropout(0.2)(x)\n",
    "x = inception_module(x, 64, 128, 32)\n",
    "x = Dropout(0.2)(x)\n",
    "x = inception_module(x, 64, 128, 32)\n",
    "\n",
    "x = Flatten()(x)\n",
    "\n",
    "dense = Dense(128,activation='LeakyReLU')(x)\n",
    "x = Dropout(0.2)(x)\n",
    "dense = Dense(128,activation='relu')(x)\n",
    "out_layer = Dense(7,activation='softmax')(x)\n",
    " \n",
    "\n",
    "model = Model(input_layer,out_layer)\n"
   ]
  },
  {
   "cell_type": "code",
   "execution_count": 11,
   "id": "2860edaf",
   "metadata": {
    "execution": {
     "iopub.execute_input": "2023-03-01T10:50:04.126875Z",
     "iopub.status.busy": "2023-03-01T10:50:04.125159Z",
     "iopub.status.idle": "2023-03-01T10:50:04.134652Z",
     "shell.execute_reply": "2023-03-01T10:50:04.133665Z"
    },
    "papermill": {
     "duration": 0.016783,
     "end_time": "2023-03-01T10:50:04.136709",
     "exception": false,
     "start_time": "2023-03-01T10:50:04.119926",
     "status": "completed"
    },
    "tags": []
   },
   "outputs": [],
   "source": [
    "adam =tf.keras.optimizers.Adam(\n",
    "    learning_rate=0.0001,\n",
    "    beta_1=0.9,\n",
    "    beta_2=0.999,\n",
    "    epsilon=1e-07,\n",
    "    amsgrad=False,\n",
    "    name='Adam'\n",
    "    \n",
    ")"
   ]
  },
  {
   "cell_type": "code",
   "execution_count": 12,
   "id": "283f7b2e",
   "metadata": {
    "execution": {
     "iopub.execute_input": "2023-03-01T10:50:04.147450Z",
     "iopub.status.busy": "2023-03-01T10:50:04.145878Z",
     "iopub.status.idle": "2023-03-01T10:50:04.215151Z",
     "shell.execute_reply": "2023-03-01T10:50:04.214314Z"
    },
    "papermill": {
     "duration": 0.118568,
     "end_time": "2023-03-01T10:50:04.259354",
     "exception": false,
     "start_time": "2023-03-01T10:50:04.140786",
     "status": "completed"
    },
    "tags": []
   },
   "outputs": [
    {
     "name": "stdout",
     "output_type": "stream",
     "text": [
      "Model: \"model\"\n",
      "__________________________________________________________________________________________________\n",
      " Layer (type)                   Output Shape         Param #     Connected to                     \n",
      "==================================================================================================\n",
      " input_1 (InputLayer)           [(None, 48, 48, 1)]  0           []                               \n",
      "                                                                                                  \n",
      " conv2d_1 (Conv2D)              (None, 48, 48, 64)   1664        ['input_1[0][0]']                \n",
      "                                                                                                  \n",
      " max_pooling2d_1 (MaxPooling2D)  (None, 48, 48, 64)  0           ['conv2d_1[0][0]']               \n",
      "                                                                                                  \n",
      " dropout_1 (Dropout)            (None, 48, 48, 64)   0           ['max_pooling2d_1[0][0]']        \n",
      "                                                                                                  \n",
      " batch_normalization_1 (BatchNo  (None, 48, 48, 64)  256         ['dropout_1[0][0]']              \n",
      " rmalization)                                                                                     \n",
      "                                                                                                  \n",
      " conv2d_2 (Conv2D)              (None, 48, 48, 64)   4160        ['batch_normalization_1[0][0]']  \n",
      "                                                                                                  \n",
      " conv2d_3 (Conv2D)              (None, 48, 48, 128)  73856       ['batch_normalization_1[0][0]']  \n",
      "                                                                                                  \n",
      " conv2d_4 (Conv2D)              (None, 48, 48, 32)   51232       ['batch_normalization_1[0][0]']  \n",
      "                                                                                                  \n",
      " max_pooling2d_2 (MaxPooling2D)  (None, 48, 48, 64)  0           ['batch_normalization_1[0][0]']  \n",
      "                                                                                                  \n",
      " concatenate (Concatenate)      (None, 48, 48, 288)  0           ['conv2d_2[0][0]',               \n",
      "                                                                  'conv2d_3[0][0]',               \n",
      "                                                                  'conv2d_4[0][0]',               \n",
      "                                                                  'max_pooling2d_2[0][0]']        \n",
      "                                                                                                  \n",
      " dropout_2 (Dropout)            (None, 48, 48, 288)  0           ['concatenate[0][0]']            \n",
      "                                                                                                  \n",
      " conv2d_5 (Conv2D)              (None, 48, 48, 64)   18496       ['dropout_2[0][0]']              \n",
      "                                                                                                  \n",
      " conv2d_6 (Conv2D)              (None, 48, 48, 128)  331904      ['dropout_2[0][0]']              \n",
      "                                                                                                  \n",
      " conv2d_7 (Conv2D)              (None, 48, 48, 32)   230432      ['dropout_2[0][0]']              \n",
      "                                                                                                  \n",
      " max_pooling2d_3 (MaxPooling2D)  (None, 48, 48, 288)  0          ['dropout_2[0][0]']              \n",
      "                                                                                                  \n",
      " concatenate_1 (Concatenate)    (None, 48, 48, 512)  0           ['conv2d_5[0][0]',               \n",
      "                                                                  'conv2d_6[0][0]',               \n",
      "                                                                  'conv2d_7[0][0]',               \n",
      "                                                                  'max_pooling2d_3[0][0]']        \n",
      "                                                                                                  \n",
      " dropout_3 (Dropout)            (None, 48, 48, 512)  0           ['concatenate_1[0][0]']          \n",
      "                                                                                                  \n",
      " conv2d_8 (Conv2D)              (None, 48, 48, 64)   32832       ['dropout_3[0][0]']              \n",
      "                                                                                                  \n",
      " conv2d_9 (Conv2D)              (None, 48, 48, 128)  589952      ['dropout_3[0][0]']              \n",
      "                                                                                                  \n",
      " conv2d_10 (Conv2D)             (None, 48, 48, 32)   409632      ['dropout_3[0][0]']              \n",
      "                                                                                                  \n",
      " max_pooling2d_4 (MaxPooling2D)  (None, 48, 48, 512)  0          ['dropout_3[0][0]']              \n",
      "                                                                                                  \n",
      " concatenate_2 (Concatenate)    (None, 48, 48, 736)  0           ['conv2d_8[0][0]',               \n",
      "                                                                  'conv2d_9[0][0]',               \n",
      "                                                                  'conv2d_10[0][0]',              \n",
      "                                                                  'max_pooling2d_4[0][0]']        \n",
      "                                                                                                  \n",
      " flatten (Flatten)              (None, 1695744)      0           ['concatenate_2[0][0]']          \n",
      "                                                                                                  \n",
      " dropout_4 (Dropout)            (None, 1695744)      0           ['flatten[0][0]']                \n",
      "                                                                                                  \n",
      " dense_2 (Dense)                (None, 7)            11870215    ['dropout_4[0][0]']              \n",
      "                                                                                                  \n",
      "==================================================================================================\n",
      "Total params: 13,614,631\n",
      "Trainable params: 13,614,503\n",
      "Non-trainable params: 128\n",
      "__________________________________________________________________________________________________\n",
      "None\n"
     ]
    }
   ],
   "source": [
    "model.compile(optimizer=adam,\n",
    "               loss=\"categorical_crossentropy\", \n",
    "             metrics=['accuracy'])\n",
    "\n",
    "print(model.summary())"
   ]
  },
  {
   "cell_type": "code",
   "execution_count": 13,
   "id": "ed717138",
   "metadata": {
    "execution": {
     "iopub.execute_input": "2023-03-01T10:50:04.276062Z",
     "iopub.status.busy": "2023-03-01T10:50:04.275598Z",
     "iopub.status.idle": "2023-03-01T10:50:04.282657Z",
     "shell.execute_reply": "2023-03-01T10:50:04.281589Z"
    },
    "papermill": {
     "duration": 0.018015,
     "end_time": "2023-03-01T10:50:04.285005",
     "exception": false,
     "start_time": "2023-03-01T10:50:04.266990",
     "status": "completed"
    },
    "tags": []
   },
   "outputs": [],
   "source": [
    "earlystopping =tf.keras.callbacks.EarlyStopping(monitor=\"val_loss\",\n",
    "                                                patience=5, verbose=1, mode=\"auto\", )\n",
    "lr_reduce = tf.keras.callbacks.ReduceLROnPlateau(monitor='val_accuracy', factor=0.6, patience=8,\n",
    "                              verbose=1, mode='max', min_lr=5e-5)\n",
    "checkpoint = tf.keras.callbacks.ModelCheckpoint('version1_finetune.h15', monitor= 'val_accuracy',\n",
    "                             mode= 'max', save_best_only = True, verbose= 1)"
   ]
  },
  {
   "cell_type": "code",
   "execution_count": 14,
   "id": "3a4f8133",
   "metadata": {
    "execution": {
     "iopub.execute_input": "2023-03-01T10:50:04.302301Z",
     "iopub.status.busy": "2023-03-01T10:50:04.302040Z",
     "iopub.status.idle": "2023-03-01T14:03:32.076473Z",
     "shell.execute_reply": "2023-03-01T14:03:32.075369Z"
    },
    "papermill": {
     "duration": 11607.786292,
     "end_time": "2023-03-01T14:03:32.079189",
     "exception": false,
     "start_time": "2023-03-01T10:50:04.292897",
     "status": "completed"
    },
    "tags": []
   },
   "outputs": [
    {
     "name": "stdout",
     "output_type": "stream",
     "text": [
      "Epoch 1/100\n"
     ]
    },
    {
     "name": "stderr",
     "output_type": "stream",
     "text": [
      "2023-03-01 10:50:06.825879: E tensorflow/core/grappler/optimizers/meta_optimizer.cc:954] layout failed: INVALID_ARGUMENT: Size of values 0 does not match size of permutation 4 @ fanin shape inmodel/dropout_1/dropout/SelectV2-2-TransposeNHWCToNCHW-LayoutOptimizer\n"
     ]
    },
    {
     "name": "stdout",
     "output_type": "stream",
     "text": [
      "224/224 [==============================] - 207s 864ms/step - loss: 7.8797 - accuracy: 0.2038 - val_loss: 1.8902 - val_accuracy: 0.2020\n",
      "Epoch 2/100\n",
      "224/224 [==============================] - 86s 384ms/step - loss: 1.8813 - accuracy: 0.2318 - val_loss: 1.8435 - val_accuracy: 0.2492\n",
      "Epoch 3/100\n",
      "224/224 [==============================] - 89s 398ms/step - loss: 1.8165 - accuracy: 0.2448 - val_loss: 1.7860 - val_accuracy: 0.2778\n",
      "Epoch 4/100\n",
      "224/224 [==============================] - 90s 399ms/step - loss: 1.8006 - accuracy: 0.2521 - val_loss: 1.7803 - val_accuracy: 0.2778\n",
      "Epoch 5/100\n",
      "224/224 [==============================] - 89s 398ms/step - loss: 1.7905 - accuracy: 0.2592 - val_loss: 1.7895 - val_accuracy: 0.2638\n",
      "Epoch 6/100\n",
      "224/224 [==============================] - 89s 398ms/step - loss: 1.7882 - accuracy: 0.2595 - val_loss: 1.7701 - val_accuracy: 0.2811\n",
      "Epoch 7/100\n",
      "224/224 [==============================] - 89s 399ms/step - loss: 1.7823 - accuracy: 0.2616 - val_loss: 1.7695 - val_accuracy: 0.2836\n",
      "Epoch 8/100\n",
      "224/224 [==============================] - 86s 383ms/step - loss: 1.7775 - accuracy: 0.2647 - val_loss: 1.7634 - val_accuracy: 0.2778\n",
      "Epoch 9/100\n",
      "224/224 [==============================] - 86s 383ms/step - loss: 1.7796 - accuracy: 0.2642 - val_loss: 1.7571 - val_accuracy: 0.2762\n",
      "Epoch 10/100\n",
      "224/224 [==============================] - 86s 383ms/step - loss: 1.7778 - accuracy: 0.2609 - val_loss: 1.7538 - val_accuracy: 0.2790\n",
      "Epoch 11/100\n",
      "224/224 [==============================] - 89s 399ms/step - loss: 1.7729 - accuracy: 0.2686 - val_loss: 1.7487 - val_accuracy: 0.2927\n",
      "Epoch 12/100\n",
      "224/224 [==============================] - 90s 399ms/step - loss: 1.7712 - accuracy: 0.2664 - val_loss: 1.7468 - val_accuracy: 0.2786\n",
      "Epoch 13/100\n",
      "224/224 [==============================] - 86s 385ms/step - loss: 1.7700 - accuracy: 0.2691 - val_loss: 1.7657 - val_accuracy: 0.2796\n",
      "Epoch 14/100\n",
      "224/224 [==============================] - 86s 383ms/step - loss: 1.7601 - accuracy: 0.2753 - val_loss: 1.7237 - val_accuracy: 0.3032\n",
      "Epoch 15/100\n",
      "224/224 [==============================] - 86s 383ms/step - loss: 1.7608 - accuracy: 0.2733 - val_loss: 1.7218 - val_accuracy: 0.3011\n",
      "Epoch 16/100\n",
      "224/224 [==============================] - 90s 400ms/step - loss: 1.7569 - accuracy: 0.2775 - val_loss: 1.7349 - val_accuracy: 0.2889\n",
      "Epoch 17/100\n",
      "224/224 [==============================] - 86s 385ms/step - loss: 1.7551 - accuracy: 0.2745 - val_loss: 1.7246 - val_accuracy: 0.3032\n",
      "Epoch 18/100\n",
      "224/224 [==============================] - 90s 399ms/step - loss: 1.7544 - accuracy: 0.2786 - val_loss: 1.7091 - val_accuracy: 0.3110\n",
      "Epoch 19/100\n",
      "224/224 [==============================] - 89s 398ms/step - loss: 1.7492 - accuracy: 0.2843 - val_loss: 1.7085 - val_accuracy: 0.3146\n",
      "Epoch 20/100\n",
      "224/224 [==============================] - 86s 383ms/step - loss: 1.7453 - accuracy: 0.2807 - val_loss: 1.7292 - val_accuracy: 0.2914\n",
      "Epoch 21/100\n",
      "224/224 [==============================] - 89s 399ms/step - loss: 1.7430 - accuracy: 0.2807 - val_loss: 1.6833 - val_accuracy: 0.3211\n",
      "Epoch 22/100\n",
      "224/224 [==============================] - 86s 384ms/step - loss: 1.7383 - accuracy: 0.2869 - val_loss: 1.6849 - val_accuracy: 0.3140\n",
      "Epoch 23/100\n",
      "224/224 [==============================] - 90s 399ms/step - loss: 1.7386 - accuracy: 0.2852 - val_loss: 1.6733 - val_accuracy: 0.3158\n",
      "Epoch 24/100\n",
      "224/224 [==============================] - 86s 385ms/step - loss: 1.7368 - accuracy: 0.2881 - val_loss: 1.6762 - val_accuracy: 0.3223\n",
      "Epoch 25/100\n",
      "224/224 [==============================] - 90s 399ms/step - loss: 1.7356 - accuracy: 0.2893 - val_loss: 1.6478 - val_accuracy: 0.3352\n",
      "Epoch 26/100\n",
      "224/224 [==============================] - 90s 399ms/step - loss: 1.7260 - accuracy: 0.2955 - val_loss: 1.6386 - val_accuracy: 0.3302\n",
      "Epoch 27/100\n",
      "224/224 [==============================] - 86s 384ms/step - loss: 1.7265 - accuracy: 0.2940 - val_loss: 1.6627 - val_accuracy: 0.3274\n",
      "Epoch 28/100\n",
      "224/224 [==============================] - 86s 384ms/step - loss: 1.7181 - accuracy: 0.2989 - val_loss: 1.6589 - val_accuracy: 0.3283\n",
      "Epoch 29/100\n",
      "224/224 [==============================] - 87s 385ms/step - loss: 1.7137 - accuracy: 0.3014 - val_loss: 1.6490 - val_accuracy: 0.3352\n",
      "Epoch 30/100\n",
      "224/224 [==============================] - 90s 399ms/step - loss: 1.7132 - accuracy: 0.3026 - val_loss: 1.6182 - val_accuracy: 0.3524\n",
      "Epoch 31/100\n",
      "224/224 [==============================] - 89s 399ms/step - loss: 1.7092 - accuracy: 0.3056 - val_loss: 1.6260 - val_accuracy: 0.3442\n",
      "Epoch 32/100\n",
      "224/224 [==============================] - 87s 387ms/step - loss: 1.7084 - accuracy: 0.3043 - val_loss: 1.6435 - val_accuracy: 0.3499\n",
      "Epoch 33/100\n",
      "224/224 [==============================] - 86s 385ms/step - loss: 1.7018 - accuracy: 0.3097 - val_loss: 1.6977 - val_accuracy: 0.3263\n",
      "Epoch 34/100\n",
      "224/224 [==============================] - 86s 384ms/step - loss: 1.7005 - accuracy: 0.3122 - val_loss: 1.6112 - val_accuracy: 0.3637\n",
      "Epoch 35/100\n",
      "224/224 [==============================] - 87s 387ms/step - loss: 1.6986 - accuracy: 0.3101 - val_loss: 1.6274 - val_accuracy: 0.3726\n",
      "Epoch 36/100\n",
      "224/224 [==============================] - 90s 401ms/step - loss: 1.6911 - accuracy: 0.3155 - val_loss: 1.6276 - val_accuracy: 0.3617\n",
      "Epoch 37/100\n",
      "224/224 [==============================] - 90s 400ms/step - loss: 1.6909 - accuracy: 0.3169 - val_loss: 1.6324 - val_accuracy: 0.3631\n",
      "Epoch 38/100\n",
      "224/224 [==============================] - 87s 386ms/step - loss: 1.6911 - accuracy: 0.3165 - val_loss: 1.5900 - val_accuracy: 0.3721\n",
      "Epoch 39/100\n",
      "224/224 [==============================] - 87s 386ms/step - loss: 1.6839 - accuracy: 0.3246 - val_loss: 1.5893 - val_accuracy: 0.3675\n",
      "Epoch 40/100\n",
      "224/224 [==============================] - 86s 385ms/step - loss: 1.6816 - accuracy: 0.3248 - val_loss: 1.5591 - val_accuracy: 0.3970\n",
      "Epoch 41/100\n",
      "224/224 [==============================] - 89s 399ms/step - loss: 1.6779 - accuracy: 0.3227 - val_loss: 1.5934 - val_accuracy: 0.3775\n",
      "Epoch 42/100\n",
      "224/224 [==============================] - 88s 390ms/step - loss: 1.6768 - accuracy: 0.3225 - val_loss: 1.6089 - val_accuracy: 0.3634\n",
      "Epoch 43/100\n",
      "224/224 [==============================] - 90s 402ms/step - loss: 1.6771 - accuracy: 0.3275 - val_loss: 1.5692 - val_accuracy: 0.3835\n",
      "Epoch 44/100\n",
      "224/224 [==============================] - 90s 400ms/step - loss: 1.6684 - accuracy: 0.3330 - val_loss: 1.5787 - val_accuracy: 0.3751\n",
      "Epoch 45/100\n",
      "224/224 [==============================] - 86s 385ms/step - loss: 1.6696 - accuracy: 0.3299 - val_loss: 1.6199 - val_accuracy: 0.3622\n",
      "Epoch 46/100\n",
      "224/224 [==============================] - 89s 399ms/step - loss: 1.6691 - accuracy: 0.3327 - val_loss: 1.6047 - val_accuracy: 0.3737\n",
      "Epoch 47/100\n",
      "224/224 [==============================] - 86s 383ms/step - loss: 1.6609 - accuracy: 0.3369 - val_loss: 1.5778 - val_accuracy: 0.3898\n",
      "Epoch 48/100\n",
      "224/224 [==============================] - 90s 399ms/step - loss: 1.6656 - accuracy: 0.3313 - val_loss: 1.5346 - val_accuracy: 0.3991\n",
      "Epoch 49/100\n",
      "224/224 [==============================] - 86s 384ms/step - loss: 1.6562 - accuracy: 0.3410 - val_loss: 1.5388 - val_accuracy: 0.4057\n",
      "Epoch 50/100\n",
      "224/224 [==============================] - 86s 384ms/step - loss: 1.6532 - accuracy: 0.3394 - val_loss: 1.6148 - val_accuracy: 0.3842\n",
      "Epoch 51/100\n",
      "224/224 [==============================] - 90s 399ms/step - loss: 1.6450 - accuracy: 0.3446 - val_loss: 1.5834 - val_accuracy: 0.3813\n",
      "Epoch 52/100\n",
      "224/224 [==============================] - 90s 399ms/step - loss: 1.6476 - accuracy: 0.3402 - val_loss: 1.5019 - val_accuracy: 0.4316\n",
      "Epoch 53/100\n",
      "224/224 [==============================] - 86s 385ms/step - loss: 1.6421 - accuracy: 0.3438 - val_loss: 1.5271 - val_accuracy: 0.4078\n",
      "Epoch 54/100\n",
      "224/224 [==============================] - 87s 385ms/step - loss: 1.6438 - accuracy: 0.3467 - val_loss: 1.5401 - val_accuracy: 0.3891\n",
      "Epoch 55/100\n",
      "224/224 [==============================] - 90s 399ms/step - loss: 1.6389 - accuracy: 0.3489 - val_loss: 1.5179 - val_accuracy: 0.4042\n",
      "Epoch 56/100\n",
      "224/224 [==============================] - 86s 384ms/step - loss: 1.6295 - accuracy: 0.3575 - val_loss: 1.5346 - val_accuracy: 0.4136\n",
      "Epoch 57/100\n",
      "224/224 [==============================] - 86s 385ms/step - loss: 1.6297 - accuracy: 0.3531 - val_loss: 1.5204 - val_accuracy: 0.4237\n",
      "Epoch 58/100\n",
      "224/224 [==============================] - 87s 385ms/step - loss: 1.6266 - accuracy: 0.3566 - val_loss: 1.5317 - val_accuracy: 0.4053\n",
      "Epoch 59/100\n",
      "224/224 [==============================] - 89s 399ms/step - loss: 1.6183 - accuracy: 0.3631 - val_loss: 1.5323 - val_accuracy: 0.4202\n",
      "Epoch 60/100\n",
      "224/224 [==============================] - 86s 385ms/step - loss: 1.6234 - accuracy: 0.3553 - val_loss: 1.5097 - val_accuracy: 0.4163\n",
      "Epoch 61/100\n",
      "224/224 [==============================] - 86s 383ms/step - loss: 1.6143 - accuracy: 0.3628 - val_loss: 1.4949 - val_accuracy: 0.4210\n",
      "Epoch 62/100\n",
      "224/224 [==============================] - 90s 399ms/step - loss: 1.6136 - accuracy: 0.3615 - val_loss: 1.5155 - val_accuracy: 0.4244\n",
      "Epoch 63/100\n",
      "224/224 [==============================] - 86s 385ms/step - loss: 1.6095 - accuracy: 0.3649 - val_loss: 1.4666 - val_accuracy: 0.4382\n",
      "Epoch 64/100\n",
      "224/224 [==============================] - 86s 383ms/step - loss: 1.6076 - accuracy: 0.3685 - val_loss: 1.4479 - val_accuracy: 0.4524\n",
      "Epoch 65/100\n",
      "224/224 [==============================] - 86s 385ms/step - loss: 1.6014 - accuracy: 0.3738 - val_loss: 1.5031 - val_accuracy: 0.4339\n",
      "Epoch 66/100\n",
      "224/224 [==============================] - 90s 400ms/step - loss: 1.5950 - accuracy: 0.3728 - val_loss: 1.4802 - val_accuracy: 0.4485\n",
      "Epoch 67/100\n",
      "224/224 [==============================] - 89s 399ms/step - loss: 1.5969 - accuracy: 0.3677 - val_loss: 1.4779 - val_accuracy: 0.4436\n",
      "Epoch 68/100\n",
      "224/224 [==============================] - 90s 399ms/step - loss: 1.5953 - accuracy: 0.3732 - val_loss: 1.4889 - val_accuracy: 0.4311\n",
      "Epoch 69/100\n",
      "224/224 [==============================] - 90s 399ms/step - loss: 1.5902 - accuracy: 0.3757 - val_loss: 1.4437 - val_accuracy: 0.4556\n",
      "Epoch 70/100\n",
      "224/224 [==============================] - 86s 384ms/step - loss: 1.5917 - accuracy: 0.3732 - val_loss: 1.4911 - val_accuracy: 0.4407\n",
      "Epoch 71/100\n",
      "224/224 [==============================] - 87s 386ms/step - loss: 1.5861 - accuracy: 0.3758 - val_loss: 1.4880 - val_accuracy: 0.4312\n",
      "Epoch 72/100\n",
      "224/224 [==============================] - 90s 399ms/step - loss: 1.5840 - accuracy: 0.3805 - val_loss: 1.4549 - val_accuracy: 0.4463\n",
      "Epoch 73/100\n",
      "224/224 [==============================] - 86s 382ms/step - loss: 1.5865 - accuracy: 0.3770 - val_loss: 1.4893 - val_accuracy: 0.4420\n",
      "Epoch 74/100\n",
      "224/224 [==============================] - 89s 399ms/step - loss: 1.5775 - accuracy: 0.3818 - val_loss: 1.5074 - val_accuracy: 0.4316\n",
      "Epoch 75/100\n",
      "224/224 [==============================] - 89s 398ms/step - loss: 1.5835 - accuracy: 0.3786 - val_loss: 1.4353 - val_accuracy: 0.4540\n",
      "Epoch 76/100\n",
      "224/224 [==============================] - 89s 398ms/step - loss: 1.5748 - accuracy: 0.3806 - val_loss: 1.4396 - val_accuracy: 0.4535\n",
      "Epoch 77/100\n",
      "224/224 [==============================] - 87s 385ms/step - loss: 1.5748 - accuracy: 0.3809 - val_loss: 1.5137 - val_accuracy: 0.4244\n",
      "Epoch 78/100\n",
      "224/224 [==============================] - 90s 400ms/step - loss: 1.5672 - accuracy: 0.3882 - val_loss: 1.4846 - val_accuracy: 0.4321\n",
      "Epoch 79/100\n",
      "224/224 [==============================] - 89s 399ms/step - loss: 1.5621 - accuracy: 0.3872 - val_loss: 1.4785 - val_accuracy: 0.4381\n",
      "Epoch 80/100\n",
      "224/224 [==============================] - 89s 399ms/step - loss: 1.5642 - accuracy: 0.3884 - val_loss: 1.5500 - val_accuracy: 0.4184\n",
      "Epoch 81/100\n",
      "224/224 [==============================] - 86s 382ms/step - loss: 1.5560 - accuracy: 0.3931 - val_loss: 1.4099 - val_accuracy: 0.4700\n",
      "Epoch 82/100\n",
      "224/224 [==============================] - 86s 382ms/step - loss: 1.5650 - accuracy: 0.3905 - val_loss: 1.3928 - val_accuracy: 0.4727\n",
      "Epoch 83/100\n",
      "224/224 [==============================] - 86s 384ms/step - loss: 1.5562 - accuracy: 0.3939 - val_loss: 1.4335 - val_accuracy: 0.4574\n",
      "Epoch 84/100\n",
      "224/224 [==============================] - 86s 384ms/step - loss: 1.5542 - accuracy: 0.3954 - val_loss: 1.4229 - val_accuracy: 0.4640\n",
      "Epoch 85/100\n",
      "224/224 [==============================] - 86s 383ms/step - loss: 1.5534 - accuracy: 0.3911 - val_loss: 1.4588 - val_accuracy: 0.4461\n",
      "Epoch 86/100\n",
      "224/224 [==============================] - 90s 399ms/step - loss: 1.5441 - accuracy: 0.3975 - val_loss: 1.4118 - val_accuracy: 0.4653\n",
      "Epoch 87/100\n",
      "224/224 [==============================] - 90s 399ms/step - loss: 1.5426 - accuracy: 0.3975 - val_loss: 1.4459 - val_accuracy: 0.4474\n",
      "Epoch 88/100\n",
      "224/224 [==============================] - 87s 386ms/step - loss: 1.5441 - accuracy: 0.3988 - val_loss: 1.4219 - val_accuracy: 0.4615\n",
      "Epoch 89/100\n",
      "224/224 [==============================] - 89s 398ms/step - loss: 1.5487 - accuracy: 0.3973 - val_loss: 1.4168 - val_accuracy: 0.4672\n",
      "Epoch 90/100\n",
      "224/224 [==============================] - 89s 398ms/step - loss: 1.5410 - accuracy: 0.3992 - val_loss: 1.4702 - val_accuracy: 0.4481\n",
      "Epoch 91/100\n",
      "224/224 [==============================] - 89s 398ms/step - loss: 1.5344 - accuracy: 0.4031 - val_loss: 1.4148 - val_accuracy: 0.4640\n",
      "Epoch 92/100\n",
      "224/224 [==============================] - 91s 404ms/step - loss: 1.5391 - accuracy: 0.4044 - val_loss: 1.4100 - val_accuracy: 0.4753\n",
      "Epoch 93/100\n",
      "224/224 [==============================] - 86s 383ms/step - loss: 1.5363 - accuracy: 0.4057 - val_loss: 1.3761 - val_accuracy: 0.4812\n",
      "Epoch 94/100\n",
      "224/224 [==============================] - 86s 385ms/step - loss: 1.5285 - accuracy: 0.4078 - val_loss: 1.4239 - val_accuracy: 0.4664\n",
      "Epoch 95/100\n",
      "224/224 [==============================] - 89s 398ms/step - loss: 1.5308 - accuracy: 0.4052 - val_loss: 1.3806 - val_accuracy: 0.4828\n",
      "Epoch 96/100\n",
      "224/224 [==============================] - 89s 398ms/step - loss: 1.5281 - accuracy: 0.4074 - val_loss: 1.3973 - val_accuracy: 0.4696\n",
      "Epoch 97/100\n",
      "224/224 [==============================] - 90s 399ms/step - loss: 1.5296 - accuracy: 0.4049 - val_loss: 1.3934 - val_accuracy: 0.4770\n",
      "Epoch 98/100\n",
      "224/224 [==============================] - 86s 383ms/step - loss: 1.5301 - accuracy: 0.4076 - val_loss: 1.3823 - val_accuracy: 0.4766\n",
      "Epoch 99/100\n",
      "224/224 [==============================] - 89s 398ms/step - loss: 1.5218 - accuracy: 0.4119 - val_loss: 1.3982 - val_accuracy: 0.4707\n",
      "Epoch 100/100\n",
      "224/224 [==============================] - 86s 383ms/step - loss: 1.5156 - accuracy: 0.4116 - val_loss: 1.3913 - val_accuracy: 0.4807\n"
     ]
    }
   ],
   "source": [
    "history = model.fit(train_generator,\n",
    "                    steps_per_epoch=train_generator.samples // BATCH_SIZE,\n",
    "                    epochs=EPOCHS,\n",
    "                    validation_data=val_generator,\n",
    "                    validation_steps=val_generator.samples // BATCH_SIZE)"
   ]
  },
  {
   "cell_type": "code",
   "execution_count": 15,
   "id": "f81ee07e",
   "metadata": {
    "execution": {
     "iopub.execute_input": "2023-03-01T14:03:34.554186Z",
     "iopub.status.busy": "2023-03-01T14:03:34.553812Z",
     "iopub.status.idle": "2023-03-01T14:03:34.946767Z",
     "shell.execute_reply": "2023-03-01T14:03:34.945729Z"
    },
    "papermill": {
     "duration": 1.597149,
     "end_time": "2023-03-01T14:03:34.949470",
     "exception": false,
     "start_time": "2023-03-01T14:03:33.352321",
     "status": "completed"
    },
    "tags": []
   },
   "outputs": [],
   "source": [
    " model.save(\"Version1.h5\")\n"
   ]
  },
  {
   "cell_type": "code",
   "execution_count": 16,
   "id": "281e62bf",
   "metadata": {
    "execution": {
     "iopub.execute_input": "2023-03-01T14:03:37.718271Z",
     "iopub.status.busy": "2023-03-01T14:03:37.717856Z",
     "iopub.status.idle": "2023-03-01T14:03:37.733387Z",
     "shell.execute_reply": "2023-03-01T14:03:37.732436Z"
    },
    "papermill": {
     "duration": 1.449987,
     "end_time": "2023-03-01T14:03:37.735901",
     "exception": false,
     "start_time": "2023-03-01T14:03:36.285914",
     "status": "completed"
    },
    "tags": []
   },
   "outputs": [],
   "source": [
    "import pandas as pd\n",
    "new = pd.DataFrame.from_dict(history.history)\n",
    "new.to_csv(\"inception_dset1_v2.csv\")"
   ]
  },
  {
   "cell_type": "code",
   "execution_count": 17,
   "id": "646f9147",
   "metadata": {
    "execution": {
     "iopub.execute_input": "2023-03-01T14:03:40.312900Z",
     "iopub.status.busy": "2023-03-01T14:03:40.311887Z",
     "iopub.status.idle": "2023-03-01T14:03:47.990979Z",
     "shell.execute_reply": "2023-03-01T14:03:47.989995Z"
    },
    "papermill": {
     "duration": 8.960324,
     "end_time": "2023-03-01T14:03:47.993159",
     "exception": false,
     "start_time": "2023-03-01T14:03:39.032835",
     "status": "completed"
    },
    "tags": []
   },
   "outputs": [
    {
     "name": "stdout",
     "output_type": "stream",
     "text": [
      "57/57 [==============================] - 8s 130ms/step - loss: 1.3910 - accuracy: 0.4808\n"
     ]
    }
   ],
   "source": [
    "loss, acc = model.evaluate(val_generator, verbose=1)\n"
   ]
  },
  {
   "cell_type": "code",
   "execution_count": null,
   "id": "4bfc3612",
   "metadata": {
    "papermill": {
     "duration": 1.296554,
     "end_time": "2023-03-01T14:03:50.757078",
     "exception": false,
     "start_time": "2023-03-01T14:03:49.460524",
     "status": "completed"
    },
    "tags": []
   },
   "outputs": [],
   "source": []
  }
 ],
 "metadata": {
  "kernelspec": {
   "display_name": "Python 3",
   "language": "python",
   "name": "python3"
  },
  "language_info": {
   "codemirror_mode": {
    "name": "ipython",
    "version": 3
   },
   "file_extension": ".py",
   "mimetype": "text/x-python",
   "name": "python",
   "nbconvert_exporter": "python",
   "pygments_lexer": "ipython3",
   "version": "3.7.12"
  },
  "papermill": {
   "default_parameters": {},
   "duration": 11671.934068,
   "end_time": "2023-03-01T14:03:55.024104",
   "environment_variables": {},
   "exception": null,
   "input_path": "__notebook__.ipynb",
   "output_path": "__notebook__.ipynb",
   "parameters": {},
   "start_time": "2023-03-01T10:49:23.090036",
   "version": "2.4.0"
  }
 },
 "nbformat": 4,
 "nbformat_minor": 5
}
